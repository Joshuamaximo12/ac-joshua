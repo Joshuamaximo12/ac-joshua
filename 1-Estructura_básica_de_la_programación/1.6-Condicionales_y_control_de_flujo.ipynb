{
 "cells": [
  {
   "cell_type": "markdown",
   "id": "4f3bb035",
   "metadata": {},
   "source": [
    "# Condicionales y control de flujo\n",
    "\n",
    "Una aplicación extremadamente valiosa de los datos de tipo Booleano, introducidos en el _notebook_ [`1.5-Operaciones_lógicas_y_valores_booleanos.ipynb`](./1.5-Operaciones_lógicas_y_valores_booleanos.ipynb), es en la creación de declaraciones condicionales."
   ]
  },
  {
   "cell_type": "markdown",
   "id": "f5519167",
   "metadata": {},
   "source": [
    "## Condicionales\n",
    "\n",
    "### Declaraciones `if` (_if statements_)\n",
    "\n",
    "Al momento de escribir programas, es útil poder ejecutar algunos comandos especiales _sólo si se cumplen ciertas condiciones_. La manera de hacer esto es con declaraciones _condicionales_; las más sencillas son del tipo\n",
    "\n",
    "$$\\textit{si sucede 'x', entonces haz 'y'}.$$\n",
    "\n",
    "Un ejemplo de una declaración de este tipo en Julia es el siguiente:"
   ]
  },
  {
   "cell_type": "code",
   "execution_count": 1,
   "id": "391fd507",
   "metadata": {},
   "outputs": [],
   "source": [
    "v = 1\n",
    "\n",
    "if v > 2\n",
    "    \n",
    "    println(\"¡Lo lograste!\")\n",
    "    \n",
    "end"
   ]
  },
  {
   "cell_type": "code",
   "execution_count": 2,
   "id": "81e814b6",
   "metadata": {},
   "outputs": [
    {
     "name": "stdout",
     "output_type": "stream",
     "text": [
      "¡Lo lograste!\n"
     ]
    }
   ],
   "source": [
    "v = 3\n",
    "\n",
    "if v > 2 #En este caso la condición se va a cumplir para los números mayores que 2, es decir, si v=3 se cumple.\n",
    "    \n",
    "    println(\"¡Lo lograste!\")\n",
    "    \n",
    "end"
   ]
  },
  {
   "cell_type": "code",
   "execution_count": 3,
   "id": "0411c338",
   "metadata": {},
   "outputs": [
    {
     "name": "stdout",
     "output_type": "stream",
     "text": [
      "¡Lo lograste!\n"
     ]
    }
   ],
   "source": [
    "v = 1\n",
    "\n",
    "if v < 2  #En este caso la condición son los número menores a 2, así si v=1, se cumple.\n",
    "    \n",
    "    println(\"¡Lo lograste!\")\n",
    "    \n",
    "end"
   ]
  },
  {
   "cell_type": "code",
   "execution_count": 5,
   "id": "a192a12c",
   "metadata": {},
   "outputs": [
    {
     "name": "stdout",
     "output_type": "stream",
     "text": [
      "¡Lo lograste!\n"
     ]
    }
   ],
   "source": [
    "v = 1\n",
    "\n",
    "if v == 1  #Este caso se cumple debido a que la condición es igual al valor de v, el cual es 1.\n",
    "    \n",
    "    println(\"¡Lo lograste!\")\n",
    "    \n",
    "end"
   ]
  },
  {
   "cell_type": "code",
   "execution_count": 12,
   "id": "df2a784b",
   "metadata": {},
   "outputs": [
    {
     "name": "stdout",
     "output_type": "stream",
     "text": [
      "¡Lo lograste!\n"
     ]
    }
   ],
   "source": [
    "v = 1\n",
    "\n",
    "if v != 2  #En este caso la condición se cumple siempre y cuando el valor no sea el mismo que la condición.\n",
    "    \n",
    "    println(\"¡Lo lograste!\")\n",
    "    \n",
    "end"
   ]
  },
  {
   "cell_type": "markdown",
   "id": "49be1ec6",
   "metadata": {},
   "source": [
    "Observa que, si ejecutas la celda anterior, no ocurre nada. Esto es porque la condición `v > 1` **no se cumple**.\n",
    "\n",
    "**Ejercicio** Cambia **sólo un símbolo** (letra, número, operador, etc) de la celda anterior de tal forma que obtengas algo en la salida (Hay dos maneras diferentes de hacerlo). Después, comenta el código de la celda anterior."
   ]
  },
  {
   "cell_type": "markdown",
   "id": "902741df",
   "metadata": {},
   "source": [
    "Las declaraciones condicionales como la del ejemplo anterior se conocen como declaraciones `if`, pues esta palabra significa \"si\" en inglés. La sintáxis general de una declaración `if` en Julia (traducida al español) es:\n",
    "\n",
    "$\\color{green}{\\textbf{si}} \\ \\ \\text{condición}$\n",
    "\n",
    "$\\quad \\quad \\text{entonces...}$\n",
    "\n",
    "$\\color{green}{\\textbf{fin}}$\n",
    "\n",
    "donde $\\text{entonces...}$ es todo el código que se encuentre _debajo_ de la condición y _arriba_ de $\\color{green}{\\text{fin}}$. La idea básica de una declaración `if` es: si, al ejecutar el código, la expresión $\\text{condición}$ se evalúa a `true`, se ejecutará el bloque de código $\\text{entonces...}$.\n",
    "\n",
    "**Ejercicio** Escribe una celda de código en donde se defina una variable y:\n",
    "* si la variable es mayor que cinco, devuelva la frase _mayor que cinco_;\n",
    "* si la variable es menor o igual que cinco, devuelva la frase _menor o igual que cinco_.\n",
    "\n",
    "(Pista: utiliza dos declaraciones `if`.)"
   ]
  },
  {
   "cell_type": "code",
   "execution_count": 42,
   "id": "7b831d63",
   "metadata": {},
   "outputs": [
    {
     "name": "stdout",
     "output_type": "stream",
     "text": [
      "¡mayor que cinco!\n"
     ]
    }
   ],
   "source": [
    "y = 7.23 # Nota: debido a que son dos declaraciones, se deben poner dos \"end\", es decir, por cada declaración que se haga, se \n",
    "      # debe poner un \"end\". Por otra parte, la forma de poner el operador menor o igual, es empezando por el símbolo de menor \"<\"\n",
    "      # y luego el de igual \"=\".\n",
    "\n",
    "if y > 5\n",
    "    \n",
    "    println(\"¡mayor que cinco!\") \n",
    "    \n",
    " \n",
    "if y <= 5                                   \n",
    "        \n",
    "    println(\"¡menor o igual que cinco!\")\n",
    "    \n",
    "end\n",
    "    end\n",
    "\n",
    "#Nota: Al parecer no hay precedencia por las declaraciones, es decir no importa cual escriba primero  y cúal después,\n",
    "# lo que va a importar es el valor asigando a la variable para que el programa pueda ejecutarlo. \n"
   ]
  },
  {
   "cell_type": "markdown",
   "id": "b5b381a9",
   "metadata": {},
   "source": [
    "**Ejercicio** Crea una nueva celda con un código que haga lo mismo que en el ejercicio anterior, pero **sólo** si la variable es de tipo `Int64`. Para hacerlo, primero escribe un **diagrama de flujo**\n",
    "(Pista: ¡el bloque de código $\\text{entonces...}$ en una declaración condicional puede, en particular, contener más declaraciones `if`!)"
   ]
  },
  {
   "cell_type": "code",
   "execution_count": 155,
   "id": "7df30854",
   "metadata": {},
   "outputs": [
    {
     "name": "stdout",
     "output_type": "stream",
     "text": [
      "mayor que cinco\n"
     ]
    }
   ],
   "source": [
    "function declarar(x)\n",
    "    if typeof(x) == Int64\n",
    "        \n",
    "    if x > 5\n",
    "        println(\"mayor que cinco\")\n",
    "\n",
    "        else x <= 5 \n",
    "        println(\"menor o igual que cinco\")\n",
    "    \n",
    "            end\n",
    "        end\n",
    "end\n",
    "    \n",
    "\n",
    "declarar(7)"
   ]
  },
  {
   "cell_type": "markdown",
   "id": "a95526a2",
   "metadata": {},
   "source": [
    "**Nota** Julia permite escribir declaraciones condicionales en una sola línea, por lo que la sintaxis\n",
    "\n",
    "$\\color{green}{\\textbf{if}} \\{\\text{condition then...} \\color{green}{\\textbf{end}}$\n",
    "\n",
    "también es válida para una declaración `if`. Sin embargo, se recomienda siempre utilizar el primer formato que\n",
    "presentamos, pues las diferentes líneas permiten hacer una distinción más clara entre condición e instrucciones,\n",
    "mientras que la sangría deja en evidencia cúales líneas de código están sujetas a la verificación de dicha condición."
   ]
  },
  {
   "cell_type": "markdown",
   "id": "deb70fff",
   "metadata": {},
   "source": [
    "**Nota** Para condicionales `if` cuyas condiciones e instrucciones sean expresiones sencillas, existe una sintaxis\n",
    "\n",
    "`a ? b : c`\n",
    "\n",
    "donde \n",
    "\n",
    "   * `a` es la condición a evaluar,\n",
    "   * `b` es la expresión a ejecutar en caso de que `a` se evalue `true` y\n",
    "   * `c` es la expresión a ejectuar en caso de que `a` se evalue `false`.\n",
    "   \n",
    "   Como ejemplo, ejecuta la siguiente celda de código para diferentes valores de `x`y `y`. \n",
    "\n"
   ]
  },
  {
   "cell_type": "code",
   "execution_count": 157,
   "id": "6872664f",
   "metadata": {},
   "outputs": [
    {
     "name": "stdout",
     "output_type": "stream",
     "text": [
      "3 es menor o igual que 7."
     ]
    }
   ],
   "source": [
    "x = 3\n",
    "y = 7\n",
    "\n",
    " (x > y) ? print(\"$x es mayor que $y.\") : print(\"$x es menor o igual que $y.\")"
   ]
  },
  {
   "cell_type": "code",
   "execution_count": 158,
   "id": "140eb89d",
   "metadata": {},
   "outputs": [
    {
     "name": "stdout",
     "output_type": "stream",
     "text": [
      "3 es mayor que -6."
     ]
    }
   ],
   "source": [
    "x = 3\n",
    "y = -6\n",
    "\n",
    " (x > y) ? print(\"$x es mayor que $y.\") : print(\"$x es menor o igual que $y.\")"
   ]
  },
  {
   "cell_type": "code",
   "execution_count": 159,
   "id": "571f1701",
   "metadata": {},
   "outputs": [
    {
     "name": "stdout",
     "output_type": "stream",
     "text": [
      "0 es menor o igual que 0."
     ]
    }
   ],
   "source": [
    "x = 0\n",
    "y = 0\n",
    "\n",
    " (x > y) ? print(\"$x es mayor que $y.\") : print(\"$x es menor o igual que $y.\")"
   ]
  },
  {
   "cell_type": "markdown",
   "id": "6536eb3b",
   "metadata": {},
   "source": [
    "### Declaraciones `if-else` (_if-else statements_)\n",
    "\n",
    "Después de haber hecho los ejercicios de la sección anterior, quizá habrás notado que, en el penúltimo ejercicio, la condición sobre la variable que definiste que da como resultado la frase _menor o igual que cinco_ es la **negación** de la condición que da como resultado _mayor que cinco_, por lo que pudimos haber escrito las declaraciones condicionales (ahora sí, en inglés) de esta forma:\n",
    "\n",
    "$\\color{green}{\\textbf{if }} \\text{condition}$\n",
    "\n",
    "$\\quad \\quad \\text{then...}$\n",
    "\n",
    "$\\color{green}{\\textbf{end}}$\n",
    "\n",
    "$\\color{green}{\\textbf{if}} \\ \\ \\color{magenta}{\\textbf{! }}\\text{condition}$\n",
    "\n",
    "$\\quad \\quad \\text{alternative...}$\n",
    "\n",
    "$\\color{green}{\\textbf{end}}$\n",
    "\n",
    "Dado que cuando programamos es extremadamente común querer verificar una condición y, además de ejecutar cierto código si se verifica, tener un código alternativo a ejecutar si **no** se verifica, suele haber una forma más sencilla de escribir esto. En Julia se utiliza `else`, pues esta palabra significa \"si no/en caso contrario/de otro modo\" en inglés, y las declaraciones condicionales de este tipo se conocen como `if/else`. La sintáxis general de una declaración `if-else` en Julia es:\n",
    "\n",
    "$\\color{green}{\\textbf{if}} \\ \\ \\text{condition}$\n",
    "\n",
    "$\\quad \\quad \\text{then...}$\n",
    "\n",
    "$\\color{green}{\\textbf{else}}$\n",
    "\n",
    "$\\quad \\quad \\text{alternative...}$\n",
    "\n",
    "$\\color{green}{\\textbf{end}}$\n",
    "\n",
    "La idea básica de una declaración `if-else` es: si, al ejecutar el código, la expresión $\\text{condition}$ se evalúa a `true`, se ejecutará el bloque de código $\\text{then...}$ mientras que, si se evalúa a `false`, se ejecutará el bloque de código $\\text{alternative...}$ ¿ves lo útiles que se han vuelto los valores Booleanos tan pronto?\n",
    "\n",
    "**Ejercicio** Reescribe tu solución del penúltimo ejercicio de la sección **Declaraciones `if` (_if statements_)** utilizando una declaración `if-else`."
   ]
  },
  {
   "cell_type": "code",
   "execution_count": 161,
   "id": "a21b4eea",
   "metadata": {},
   "outputs": [
    {
     "name": "stdout",
     "output_type": "stream",
     "text": [
      "3 es mayor que -6."
     ]
    }
   ],
   "source": [
    "# Tu código (comentado) va aquí :D \n",
    "# Se puede observar que a partir de los valores de \"x\" y \"y\", la condición if (x > y) va a evaluar si se cumple, entonces\n",
    "# se ejecutara \"x\" es mayor que \"y\", si eso no se culple, entoces tomará la declaración \"else\" y la ejecutará como\n",
    "# \"x\" es menor o igual que \"y\". En este caso se cimplio que \"x\" es mayor que \"y\".\n",
    "x = 3\n",
    "y = -6\n",
    "\n",
    "if (x > y)\n",
    "    print(\"$x es mayor que $y.\")\n",
    "\n",
    "else \n",
    "    print(\"$x es menor o igual que $y.\")\n",
    "    \n",
    "end \n"
   ]
  },
  {
   "cell_type": "markdown",
   "id": "32e8eae8",
   "metadata": {},
   "source": [
    "Al usar declaraciones condicionales, estamos haciendo uso de los valores Booleanos para controlar el flujo de\n",
    "nuestro programa, pues un código que contenga condicionales ya no se ejecutará siguiendo el flujo estándar-línea\n",
    "por línea de arriba hacia abajo-, sino que tendrá una bifurcación por cada condicional, donde el camino a elegir será\n",
    "determinado por la evaluación de la condición correspondiente."
   ]
  },
  {
   "cell_type": "markdown",
   "id": "282bc240",
   "metadata": {},
   "source": [
    "### Declaraciones `if-elseif-else` (_if-elseif-else statements_)\n",
    "\n",
    "Existe otra situación recurrente cuando queremos programar en función de que se cumplan o no ciertas condiciones: esto es cuando, más allá de sólo querer verificar si **una** condición **se cumple o no**, queremos verificar si **alguna de varias** condiciones se cumple, especificar **para cada una de ellas** qué sucederá si se llega a cumplir, y especificar que sucederá si **ninguna** de ellas se cumple. Con lo que sabemos, podríamos escribir un proceso así como:\n",
    "\n",
    "$\\color{green}{\\textbf{if}} \\ \\ \\text{condition1}$\n",
    "\n",
    "$\\quad \\quad \\text{then}1...$\n",
    "\n",
    "$\\color{green}{\\textbf{else}}$\n",
    "\n",
    "$\\quad \\quad \\color{green}{\\textbf{if}} \\ \\ \\text{condition2}$\n",
    "\n",
    "$\\quad \\quad \\quad \\quad \\text{then}2...$\n",
    "\n",
    "$\\quad \\quad \\color{green}{\\textbf{else}}$\n",
    "\n",
    "$\\quad \\quad \\quad \\quad \\color{green}{\\textbf{if}} \\ \\ \\text{condition3}$\n",
    "\n",
    "$\\quad \\quad \\quad \\quad \\quad \\quad \\text{then}3...$\n",
    "\n",
    "$\\quad \\quad \\quad \\quad \\color{green}{\\textbf{else}}$\n",
    "\n",
    "$\\quad \\quad \\quad \\quad \\quad \\quad \\quad \\quad \\quad \\quad \\dots$\n",
    "\n",
    "$\\quad \\quad \\quad \\quad \\quad \\quad \\quad \\quad \\quad \\quad \\quad \\quad \\color{green}{\\textbf{if}} \\ \\ \\text{condition}n$\n",
    "\n",
    "$\\quad \\quad \\quad \\quad \\quad \\quad \\quad \\quad \\quad \\quad \\quad \\quad \\quad \\quad \\text{then}n...$\n",
    "\n",
    "$\\quad \\quad \\quad \\quad \\quad \\quad \\quad \\quad \\quad \\quad \\quad \\quad \\color{green}{\\textbf{else}}$\n",
    "\n",
    "$\\quad \\quad \\quad \\quad \\quad \\quad \\quad \\quad \\quad \\quad \\quad \\quad \\quad \\quad \\text{alternative...}$\n",
    "\n",
    "$\\quad \\quad \\quad \\quad \\quad \\quad \\quad \\quad \\quad \\quad \\quad \\quad \\color{green}{\\textbf{end}}$\n",
    "\n",
    "$\\quad \\quad \\quad \\quad \\quad \\quad \\quad \\quad \\quad \\quad \\dots$\n",
    "\n",
    "$\\quad \\quad \\quad \\quad \\color{green}{\\textbf{end}}$\n",
    "\n",
    "$\\quad \\quad \\color{green}{\\textbf{end}}$\n",
    "\n",
    "$\\color{green}{\\textbf{end}}$\n",
    "\n",
    "En este caso, el bloque de código que se ejecutará si **ninguna** de las condiciones de las declaraciones `if` se cumple es $\\text{alternative...}$. \n",
    "\n",
    "Las \"cascadas\" de declaraciones `if-else` anidadas como la anterior a menudo no son fáciles de entender a simple vista, lo cual complica poder programar procesos de este tipo. Afortunadamente, en Julia, existe una manera de simplificar este tipo de expresiones, utilizando `elseif` para decir \"si no se cumple la condición anterior, entonces si se cumple esta nueva condición...\"; las declaraciones condicionales de este tipo se conocen como declaraciones `if-elseif-else`, y la sintáxis general de una declaración de este tipo en Julia es:\n",
    "\n",
    "$\\color{green}{\\textbf{if}} \\ \\ \\text{condition1}$\n",
    "\n",
    "$\\quad \\quad \\text{then}1...$\n",
    "\n",
    "$\\color{green}{\\textbf{elseif}} \\ \\ \\text{condition2}$\n",
    "\n",
    "$\\quad \\quad \\text{then}2...$\n",
    "\n",
    "...\n",
    "\n",
    "$\\color{green}{\\textbf{elseif}} \\ \\ \\text{condition}n$\n",
    "\n",
    "$\\quad \\quad \\text{then}n...$\n",
    "\n",
    "$\\color{green}{\\textbf{else}}$\n",
    "\n",
    "$\\quad \\quad \\text{alternative...}$\n",
    "\n",
    "$\\color{green}{\\textbf{end}}$\n",
    "\n",
    "Esto es equivalente a la \"cascada\" de declaraciones `if` anidadas anterior, por lo que logra el mismo propósito ¡pero siendo mucho más manejable!\n",
    "\n",
    "**Nota** _¡No todos los lenguajes de programación tienen algo parecido a `elseif`!_ por lo que,  en muchos otros, en la práctica se tienen que anidar varias declaraciones `if` \"en cascada\" bajo una declaración `if` básica (cuya verificación sea un requisito previo a todas las declaraciones anidadas) para lograr un efecto parecido."
   ]
  },
  {
   "cell_type": "markdown",
   "id": "4a5bbad4",
   "metadata": {},
   "source": [
    "**Ejercicio** Escribe un código en donde defines una variable y, sólo si la variable es de tipo `Int64`, devuelva la palabra _positivo_, _negativo_ o _cero_ dependiendo de si el número de tipo entero es positivo, negativo o cero, respectivamente."
   ]
  },
  {
   "cell_type": "code",
   "execution_count": 173,
   "id": "b4998456",
   "metadata": {},
   "outputs": [
    {
     "name": "stdout",
     "output_type": "stream",
     "text": [
      "negativo\n",
      "cero\n",
      "positivo\n"
     ]
    }
   ],
   "source": [
    "# Tu código (comentado) va aquí :D\n",
    "# Como primer parte del ejercicio se debe declarar la variable, este caso es \"z\", luego poner la condición que trabaje con \n",
    "#valores de tipo Int64. Después de utiliza la declaración if elseif else\n",
    "function variable(z)\n",
    "    if typeof(z) == Int64\n",
    "        \n",
    "    if z > 0\n",
    "        println(\"positivo\")\n",
    "\n",
    "    elseif z < 0 \n",
    "        println(\"negativo\")\n",
    "        \n",
    "    elseif z == 0\n",
    "        println(\"cero\")\n",
    "    \n",
    "        end       \n",
    "    end\n",
    "end\n",
    "    \n",
    "\n",
    "variable(-1)\n",
    "variable(0)\n",
    "variable(1)"
   ]
  },
  {
   "cell_type": "markdown",
   "id": "e3f38c91",
   "metadata": {},
   "source": [
    "Una observación **crucial** sobre las declaraciones `if-elseif-else` en Julia es que **las condiciones se verifican secuencialmente de arriba hacia abajo** y que **las declaraciones `if-elseif-else` terminan de ejecutarse en cuanto una de las condiciones se verifica**. En efecto, todo esto se puede deducir a partir del **diagrama de flujo** de las declaraciones `if-elseif-else` en Julia o, equivalentemente, recordando que estas declaraciones son equivalentes a anidar muchas declaraciones `if-else` \"en cascada\".\n",
    "\n",
    "Una consecuencia de esto es que, si escribimos una declaración `if-elseif-else` en la que una **misma** condición aparece **varias veces**, sólo se ejecutará el bloque de código que se encuentra debajo de **la primera vez** que aparece dicha condición. Por lo tanto, siempre que utilicemos este tipo de declaraciones condicionales, hay que **tener cuidado en cómo ordenamos nuestras condiciones** y **verificar que todas ellas funcionen correctamente**."
   ]
  },
  {
   "cell_type": "markdown",
   "id": "a8fa594d",
   "metadata": {},
   "source": [
    "Una observación útil es que ¡podemos utilizar declaraciones condicionales para definir funciones!\n",
    "\n",
    "**Ejercicio** Define una función llamada `Entero_o_flotante` que tome una variable numérica y devuelva la frase:\n",
    "* _¡Es de tipo entero!_ si el número es de tipo `Int64`;\n",
    "* _¡Es de punto flotante!_ si el número es de tipo `Float64`;\n",
    "* _¡No sé qué es!_ si ninguna de las condiciones anteriores se cumple.\n",
    "\n",
    "de tal forma que, si la variable introducida no es numérica, **marque un error** (Sugerencia: Usa [la documentación de Julia](https://docs.julialang.org/en/v1/base/numbers/) como referencia y utiliza operadores lógicos y paréntesis en las condiciones que lo requieran)."
   ]
  },
  {
   "cell_type": "code",
   "execution_count": 186,
   "id": "30c46ba8",
   "metadata": {},
   "outputs": [
    {
     "name": "stdout",
     "output_type": "stream",
     "text": [
      "¡Es de tipo entero\n",
      "¡Es de punto flotante!\n",
      "¡No sé qué es!\n"
     ]
    }
   ],
   "source": [
    "# Tu código comentado va aquí :D\n",
    "# Para este ejercicio primero se declara a la variable \"h\" como EnteroOFlotante, posteriormente como la variable h puede ser un\n",
    "# valor de tipo de dato Int64, Float&4 o un tipo de número estándar se debe asignrse ese tipo de dato con if typeof(h) == Tipo \n",
    "# de dato, una vez hecho eso, se le asigna valores a la h, por ejemplo si h=3, entonces es de tipo de dato es Int64, si h=3.1416, \n",
    "#entonces el tipo de dato es Float64. Posteriormente se buscó un tipo de dato estándar, como el AbstractIrrational y uno de los\n",
    "# números comunes es el de pi o el de episón, así pues si h=pi, entonces la computaodra ejecutará ¡No sé qué es!\n",
    "function EnteroOFlotante(h)\n",
    "    \n",
    "    if typeof(h) == Int64\n",
    "        \n",
    "        println(\"¡Es de tipo entero\")\n",
    "    \n",
    "    elseif typeof(h) == Float64\n",
    "        \n",
    "        println(\"¡Es de punto flotante!\")\n",
    "        \n",
    "    else typeof(h) == AbstractIrrational\n",
    "        println(\"¡No sé qué es!\")\n",
    "        \n",
    "    end\n",
    "end\n",
    "\n",
    "EnteroOFlotante(3)\n",
    "EnteroOFlotante(3.1416)\n",
    "EnteroOFlotante(pi)\n",
    "        \n"
   ]
  },
  {
   "cell_type": "markdown",
   "id": "96fff479",
   "metadata": {},
   "source": [
    "### Condiciones y alcance (scope)\n",
    "\n",
    "Las condiciones en Julia **no introducen alcance local**, lo que significa que las variables que definimos dentro de\n",
    "una declaración condicional se podrán utilizar después de que ésta termine, siempre y cuando la asignación \n",
    "correspondiente se haya realizado; es decir, siempre y cuando se haya ejecutado la porción del código donde se\n",
    "defina la variable. Esto se puede ver ejecutando las siguientes tres celdas de código:"
   ]
  },
  {
   "cell_type": "code",
   "execution_count": 188,
   "id": "1fcb5da6",
   "metadata": {},
   "outputs": [
    {
     "data": {
      "text/plain": [
       "\"2+2 es igual a 4.\""
      ]
     },
     "execution_count": 188,
     "metadata": {},
     "output_type": "execute_result"
    }
   ],
   "source": [
    "if ((2+2)) == 4\n",
    "    \n",
    "    variableNoLocal = \"2+2 es igual a 4.\"\n",
    "    \n",
    "elseif ((2+2) < 4)\n",
    "    \n",
    "    variableNoLocal2 = \"2+2 es menor a 4.\"\n",
    "    \n",
    "else\n",
    "    \n",
    "    variableNoLocal3 = \"2+2 es mayor a 4.\"\n",
    "    \n",
    "end\n",
    "        "
   ]
  },
  {
   "cell_type": "code",
   "execution_count": 189,
   "id": "73969fa9",
   "metadata": {},
   "outputs": [
    {
     "data": {
      "text/plain": [
       "\"2+2 es igual a 4.\""
      ]
     },
     "execution_count": 189,
     "metadata": {},
     "output_type": "execute_result"
    }
   ],
   "source": [
    "variableNoLocal #Esta variable tiene un valor asignado, pues ((2+2) == 4) == true\n"
   ]
  },
  {
   "cell_type": "code",
   "execution_count": 190,
   "id": "45b90689",
   "metadata": {},
   "outputs": [
    {
     "ename": "LoadError",
     "evalue": "UndefVarError: variableNoLocal2 not defined",
     "output_type": "error",
     "traceback": [
      "UndefVarError: variableNoLocal2 not defined",
      ""
     ]
    }
   ],
   "source": [
    "variableNoLocal2 #Esta variable no tiene un valor asignado, pues ((2+2) < 4) == false"
   ]
  },
  {
   "cell_type": "markdown",
   "id": "1dbf840f",
   "metadata": {},
   "source": [
    "### Resumen \n",
    "\n",
    "Una declaración condicional (o, simplemente, condicional) nos permite escribir código cuya ejecucion quede sujeta\n",
    "al cumplimiento de una condición particular. Los tres tipos de condiciones en Julia son:\n",
    "\n",
    "* `if`, para ejecutar código sólo en caso de que se cumpla una condición;\n",
    "* `if-else`, similar a `if`pero con un código alternativo a ejecutarse en caso de que **no** se cumpla la condición;\n",
    "* `if-elseif-else`, equivalente a anidar una declaración `if` dentro de `if-else` pero con mejor sintaxis.\n",
    "\n",
    "En particular, en las condiciones `if-elseif-else`, en las que se evaluan varias condiciones, éstas se evaluan\n",
    "de arriba hacia abajo, y se terminan de ejecutar en cuanto una de las condiciones se cumple y el código  \n",
    "correspondiente es ejecutado. Por lo tanto, la mejor práctica es poner aquellas condiciones que tengan mayor \n",
    "probabilidad de verificarse.\n",
    "\n",
    "Además, las condiciones nos permiten controlar el flujo de nuestro programa, creando bufircaciones en él \n",
    "cuando sea necesario."
   ]
  }
 ],
 "metadata": {
  "kernelspec": {
   "display_name": "Julia 1.8.5",
   "language": "julia",
   "name": "julia-1.8"
  },
  "language_info": {
   "file_extension": ".jl",
   "mimetype": "application/julia",
   "name": "julia",
   "version": "1.8.5"
  }
 },
 "nbformat": 4,
 "nbformat_minor": 5
}
