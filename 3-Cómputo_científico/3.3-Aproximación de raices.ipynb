{
 "cells": [
  {
   "cell_type": "markdown",
   "id": "042c34bc",
   "metadata": {},
   "source": [
    "# Método de Newton\n",
    "\n",
    "En muchas aplicaciones matemáticas, es de gran utilidad encontrar valores para los cuales una función arbitraria se anula, conocidos como las  _raíces_ de dicha función. Por ejemplo, si en un tiro parabólico podemos encontrar el valor de tiempo (positivo) en el que que la función de posición vertical (altura) es igual a cero, entonces podemos determinar en qué momento la \"partícula\" tocará el suelo.\n",
    "\n",
    "Más generalmente, puede ser muy útil saber para qué valores de una variable independiente $x$ una función $f$ es igual a algún valor arbitrario $b$; sin embargo, esto se puede reducir al problema anterior, pues\n",
    "\n",
    "$$f(x) = b \\quad \\iff \\quad f(x) - b = 0,$$\n",
    "\n",
    "por lo que encontrar estos valores equivale a encontrar aquellos para los cuales la función $g(x) = f(x)-b$ se anula.\n",
    "\n",
    "El _método de Newton_ (o _de Newton-Raphson_) es un método numérico iterativo capaz de encontrar raíces de una función **utilizando su derivada**, pues se sustenta en el hecho de que una función continua (la solución que buscamos para nuestro método numérico) y derivable (una suposición extra) se puede aproximar en distancias cortas como una línea recta.\\\n",
    "\n",
    "Este método toma como entrada un valor numérico que _sospechamos_ que podría ser una raíz -o _estar cerca_ de una raíz- de la función en cuestión y devuelve el valor aproximado de una raíz de la función."
   ]
  },
  {
   "cell_type": "markdown",
   "id": "01a3fb37",
   "metadata": {},
   "source": [
    "# Derivación matemática del método de Newton\n",
    "\n",
    "\n",
    "Sean $f:\\mathbb{R}\\to\\mathbb{R}$ una función derivable (y, por ende, continua) en los reales, $x^\\ast$ el valor exacto de una raíz de $f$, y $x_0$ una \"adivinanza\" de una raíz de $f$, muy cercana al valor de $x^\\ast$.\n",
    "\n",
    "Definiendo a\n",
    "\n",
    "$$\\delta := x^\\ast - x_0$$\n",
    "\n",
    "tenemos trivialmente que\n",
    "\n",
    "$$x^\\ast = x_0 + \\delta;$$\n",
    "\n",
    "sin embargo, nuestro problema radica en que _no conocemos el valor de_ $x^\\ast$ (pues, de lo contrario, no tendríamos necesidad de implementar este método numérico), por lo que no podemos calcular el valor de $\\delta$. Por lo tanto, intentaremos _aproximar_ el valor de $\\delta$ y, con ello, obtener una _aproximación_ de $x^\\ast$.\n",
    "\n",
    "Recordemos que queremos encontrar $x^\\ast$ tal que\n",
    "\n",
    "$$f(x^\\ast) = 0.$$\n",
    "\n",
    "Sustituyendo, tenemos que\n",
    "\n",
    "$$f(x_0 + \\delta) = 0.$$\n",
    "\n",
    "Como **suponemos que $f$ es derivable** y que $x_0$ **es muy cercano a** $x^\\ast$ -y que, por ende, el valor de $\\delta$ es muy pequeño-, podemos expandir la ecuación anterior en una serie de Taylor alrededor de $x_0$.\n",
    "\n",
    "**Recordatorio** Si una función $f$ es derivable en un punto $a$ y $x$ es un valor cercano a $a$, entonces\n",
    "\n",
    "$$f(x) = \\sum_{k=0}^\\infty \\frac{f^k(a)(x-a)^k}{k!},$$\n",
    "\n",
    "donde $f^k$ es la $k$-ésima derivada de $f$ y, en particular, $f^0=f$. \n",
    "\n",
    "Sustituyendo $x = x^\\ast = x_0+\\delta$ y $a=x_0$, tenemos que\n",
    "\n",
    "$$f(x_0+\\delta) = f(x_0) + f'(x_0)\\delta + \\dots = 0.$$\n",
    "\n",
    "Tomando los dos primeros términos de la serie, tenemos que\n",
    "\n",
    "$$f(x_0) + f'(x_0)\\delta \\approx 0,$$\n",
    "\n",
    "de donde obtenemos la aproximación\n",
    "\n",
    "$$\\delta \\approx -\\frac{f(x_0)}{f'(x_0)}.$$\n",
    "\n",
    "Por lo tanto, por definición de $\\delta$, se sigue que\n",
    "\n",
    "$$x^\\ast \\approx x_0 -\\frac{f(x_0)}{f'(x_0)}.$$\n",
    "\n",
    "Ahora que tenemos una primera aproximación de $x^\\ast$ que **es más cercana a** $x^\\ast$ que nuestra adivinanza inicial $x_0$, podemos aplicarle este mismo razonamiento a esta primera aproximación para encontrar una _segunda aproximación_ del valor $x^\\ast$. Es decir, definimos\n",
    "\n",
    "$$x_1 = x_0 -\\frac{f(x_0)}{f'(x_0)}$$\n",
    "\n",
    "y, aplicando los mismos argumentos, obtenemos\n",
    "\n",
    "$$x_2 = x_1 -\\frac{f(x_1)}{f'(x_1)}.$$\n",
    "\n",
    "De aquí viene la naturaleza _iterativa_ del método de Newton."
   ]
  },
  {
   "cell_type": "markdown",
   "id": "774ca24d",
   "metadata": {},
   "source": [
    " **Ejercicio** Sean $i\\geq0$ y $x_i$ la aproximación de $x^\\ast$ después de $i$ iteraciones del método de Newton (la $0$-ésima iteración corresponde al valor de entrada). Encuentra una fórmula para la aproximación de $x_{i+1}$ en términos de $x_i$.\n",
    "\n",
    "_Tu respuesta va aquí._\n"
   ]
  },
  {
   "cell_type": "markdown",
   "id": "03998946",
   "metadata": {},
   "source": [
    "Sabemos que cada aproximación utiliza la aproximación anterior para ser más precisa cada vez, del último ejercicio vimos que:\n",
    "\n",
    "$$x_2 = x_1 -\\frac{f(x_1)}{f'(x_1)}.$$\n",
    "\n",
    "Si seguimos esta iteración hasta la iteración n-ésima, tendríamos que:\n",
    "\n",
    "$$x_n = x_{n-1} -\\frac{f(x_{n-1})}{f'(x_{n-1})}.$$\n",
    "\n",
    "Sin embargo, lo que se solicita es la iteración i-ésima, por lo que se puede usar el valor de $$x_n$$, para obtener el valor $$x_{n+1}$$, entonces tendríamos lo siguiente:\n",
    "\n",
    "$$x_{n+1} = x_{n} -\\frac{f(x_{n})}{f'(x_{n})}.$$\n"
   ]
  },
  {
   "cell_type": "markdown",
   "id": "0a893451",
   "metadata": {},
   "source": [
    "# Implementación \n",
    "\n",
    "**Ejercicio** Crea una función `newton` que tome como argumentos a `f`, `f`$^\\prime$, `x0` y `n`, donde\n",
    "* `f` es una función,\n",
    "* `f`$^\\prime$ es su derivada,\n",
    "* `x0` es una aproximación inicial a una raíz de `f`, y\n",
    "* `n` es el número de iteraciones del método de Newton,\n",
    "\n",
    "y devuelva la aproximación de una raíz de `f` después de `n` iteraciones.\n",
    "\n",
    "**Sugerencia** Utiliza un ciclo iterativo `for`.\n",
    "\n",
    "**Nota** Para obtener `f`$^\\prime$ al escribir código de Julia, escribie `f\\prime` y usa la auto completación con la tecla `<TAB>`. Esto es necesario pues `f'` no es un nombre válido en Julia.\n"
   ]
  },
  {
   "cell_type": "code",
   "execution_count": 17,
   "id": "c4319a6f",
   "metadata": {},
   "outputs": [
    {
     "data": {
      "text/plain": [
       "Newton (generic function with 1 method)"
      ]
     },
     "execution_count": 17,
     "metadata": {},
     "output_type": "execute_result"
    }
   ],
   "source": [
    "function Newton(f, f′, x0, n)\n",
    "    x = x0 #Aquí definimos el valor incial y hacemos a x=x0\n",
    "    for i in 1:n  \n",
    "        x = x - f(x) / f′(x) # Esta operación se definció en la celda anterior, la cual calcula las iteraciones para un valor dado.\n",
    "    end\n",
    "    return x\n",
    "end"
   ]
  },
  {
   "cell_type": "code",
   "execution_count": 18,
   "id": "354b2e3b",
   "metadata": {},
   "outputs": [
    {
     "name": "stdout",
     "output_type": "stream",
     "text": [
      "La aproximación de la raíz de f es: 1.4142135623730951\n"
     ]
    }
   ],
   "source": [
    "begin\n",
    "f(x) = x^2 - 2 #Definimos la función f(x)=x^2-2\n",
    "f′(x) = 2x  #La derivada de la función f'(x)=2x\n",
    "x0 = 1 #Damos un valor inicial x0=1\n",
    "n = 5 #Definimos el número de iteraciones que deseamos \n",
    "\n",
    "root_approx = Newton(f, f′, x0, n)\n",
    "println(\"La aproximación de la raíz de f es: \", root_approx)\n",
    "end"
   ]
  },
  {
   "cell_type": "markdown",
   "id": "6585a73e",
   "metadata": {},
   "source": [
    "**Ejercicio** Crea una función `newtonRecursiva` que tome los mismos argumentos que `newton`, pero implemente el método de Newton utilizando un ciclo _recursivo_."
   ]
  },
  {
   "cell_type": "code",
   "execution_count": 19,
   "id": "45984a5d",
   "metadata": {},
   "outputs": [
    {
     "data": {
      "text/plain": [
       "newton (generic function with 1 method)"
      ]
     },
     "execution_count": 19,
     "metadata": {},
     "output_type": "execute_result"
    }
   ],
   "source": [
    "function newton(f, f′, x0, n)\n",
    "    if n == 0\n",
    "        return x0\n",
    "    else \n",
    "        x = x0 - f(x0) / f′(x0)\n",
    "        return newton(f, f′, x, n-1)\n",
    "    end\n",
    "    \n",
    "end\n",
    "\n",
    "#Al igual que en el ejercicio anterior, se definieron los mismos parámetros, sin embargo, para utilizar un ciclo recursivo\n",
    "#se debe tomar n menos una iteraciones. "
   ]
  },
  {
   "cell_type": "code",
   "execution_count": 20,
   "id": "52ee1ddf",
   "metadata": {},
   "outputs": [
    {
     "name": "stdout",
     "output_type": "stream",
     "text": [
      "La aproximación de la raíz de f es: 1.4142135623730951\n"
     ]
    }
   ],
   "source": [
    "begin\n",
    "f(x) = x^2-2\n",
    "f′(x) = 2x\n",
    "x0 = 1\n",
    "n = 5\n",
    "\n",
    "root_approx = newton(f, f′, x0, n)\n",
    "println(\"La aproximación de la raíz de f es: \", root_approx)\n",
    "end\n",
    "\n",
    "#Se puede ver que el resultado de la aproximación para la función f(x)=x^2-2, es el mismo al aplicar el ciclo recursivo."
   ]
  },
  {
   "cell_type": "markdown",
   "id": "02e4ab25",
   "metadata": {},
   "source": [
    "**Ejercicio** Crea una función `newtonDistancia` que tome los argumentos `f`, `f`$^\\prime$, `x0` y, en vez de `n`, tome un nuevo argumento $\\varepsilon$ y realice iteraciones del método de Newton hasta que dos aproximaciones consecutivas del método tengan una distancia menor a $\\varepsilon$. \n",
    "\n",
    "**Nota** Recordando que la distancia entre dos números reales se define como el _valor absoluto_ de la diferencia entre ellos, ¿qué sucedería si ejecutáramos una función como la anterior ingresando un valor $\\varepsilon\\leq0$? Por ello, haz que tu función `newtonDistancia` imprima un mensaje de error si el valor ingresado de $\\varepsilon$ es menor o igual que cero."
   ]
  },
  {
   "cell_type": "code",
   "execution_count": 1,
   "id": "5a513156",
   "metadata": {},
   "outputs": [
    {
     "data": {
      "text/plain": [
       "newtonDistance (generic function with 1 method)"
      ]
     },
     "execution_count": 1,
     "metadata": {},
     "output_type": "execute_result"
    }
   ],
   "source": [
    "function newtonDistance(f, f′, x0, ε)\n",
    "    if ε <= 0\n",
    "        error(\"El valor de entrada de ε debe ser mayor que cero.\")\n",
    "    end\n",
    "\n",
    "    x = x0\n",
    "    x_prev = x0 + ε  #Inicializamos con una distancia mayor que ε\n",
    "    \n",
    "    while abs(x - x_prev) >= ε\n",
    "        x_prev = x\n",
    "        x = x - f(x) / f′(x)\n",
    "    end\n",
    "\n",
    "    return x\n",
    "end\n",
    "\n",
    "# Esta función toma como argumentos f (la función original), f′ (la derivada de la función), x0 (la aproximación inicial) y ε \n",
    "# (la distancia mínima entre dos aproximaciones consecutivas). El método de Newton se aplica iterativamente hasta que la \n",
    "# distancia entre dos aproximaciones consecutivas sea menor a ε.\n",
    "\n",
    "# Si el valor ingresado de ε es menor o igual a cero, se imprimirá un mensaje de error y la función retornará sin realizar \n",
    "# ninguna iteración.\n",
    "\n",
    "# A continuación se ejemplifica."
   ]
  },
  {
   "cell_type": "code",
   "execution_count": 89,
   "id": "2787fd60",
   "metadata": {},
   "outputs": [
    {
     "name": "stdout",
     "output_type": "stream",
     "text": [
      "raíz aproximada: 1.5\n"
     ]
    }
   ],
   "source": [
    "# Definimos nuestra función f y su its derivada f′\n",
    "f(x) = x^3 - 2x - 5\n",
    "f′(x) = 3x^2 - 2\n",
    "\n",
    "# Establecemos la aproximación inicial y ε\n",
    "x0 = 1.5\n",
    "ε = 1e-6\n",
    "\n",
    "# Llamamos a la función newtonDistance\n",
    "root = newtonDistance(f, f′, x0, ε)\n",
    "\n",
    "println(\"raíz aproximada: \", root)\n",
    "\n",
    "\n",
    "# En este ejemplo, la función f(x) es la función cuadrática x^3 - 2x - 5, y su derivada f′(x) es 3x^2 - 2\n",
    "# .La aproximación inicial  es x0 = 1.5 y se establece una distancia mínima de ε = 1e-6. La función imprimirá la aproximación\n",
    "#de la raíz encontrada."
   ]
  },
  {
   "cell_type": "code",
   "execution_count": 3,
   "id": "e1c67464",
   "metadata": {},
   "outputs": [
    {
     "ename": "LoadError",
     "evalue": "El valor de entrada de ε debe ser mayor que cero.",
     "output_type": "error",
     "traceback": [
      "El valor de entrada de ε debe ser mayor que cero.",
      "",
      "Stacktrace:",
      " [1] error(s::String)",
      "   @ Base .\\error.jl:35",
      " [2] newtonDistance(f::typeof(f), f′::typeof(f′), x0::Float64, ε::Int64)",
      "   @ Main .\\In[1]:3",
      " [3] top-level scope",
      "   @ In[3]:7"
     ]
    }
   ],
   "source": [
    "#Ahora veamos que pasa al elegir un valor de ε=0\n",
    "f(x) = x^3 - 2x - 5\n",
    "f′(x) = 3x^2 - 2\n",
    "x0 = 1.5\n",
    "ε = 0\n",
    "\n",
    "root = newtonDistance(f, f′, x0, ε)\n",
    "\n",
    "println(\"raíz aproximada: \", root)\n"
   ]
  },
  {
   "cell_type": "markdown",
   "id": "8877f240",
   "metadata": {},
   "source": [
    "# Derivación numérica\n",
    "\n",
    "La derivada de una función en un punto (suponiendo que existe) también se puede aproximar numéricamente.\n",
    "\n",
    "Sea $f:\\mathbb{R}\\to\\mathbb{R}$ una función derivable en un punto $x$. Entonces, la derivada de $f$ en $x$ se define como\n",
    "\n",
    "$$f^\\prime(x) = \\lim_{h\\to0}\\frac{f(x+h)-f(x)}{h}.$$\n",
    "\n",
    "Dado que dividir entre números muy pequeños (cercanos a cero) en una computadora puede causar errores de precisión muy grandes y $h$ es un valor totalmente arbitrario, podemos sustituir a $h$ por $\\frac{1}{h}$ para obtener\n",
    "\n",
    "$$f^\\prime(x) = \\lim_{\\frac{1}{h}\\to0}\\frac{f(x+\\frac{1}{h})-f(x)}{\\frac{1}{h}}$$\n",
    "\n",
    "o, equivalentemente,\n",
    "\n",
    "$$f^\\prime(x) = \\lim_{h\\to\\infty} h \\bigg( f\\bigg(x+\\frac{1}{h}\\bigg)-f(x) \\bigg).$$\n",
    "\n",
    "Por lo tanto, si $h$ es un valor muy grande, tenemos que\n",
    "\n",
    "$$f^\\prime(x) \\approx h \\bigg(f\\bigg(x+\\frac{1}{h}\\bigg)-f(x)\\bigg).$$\n"
   ]
  },
  {
   "cell_type": "markdown",
   "id": "40594494",
   "metadata": {},
   "source": [
    "**Ejercicio** Crea una función `derivadaNumérica` que tome argumentos `f`, `x` y `h`, donde\n",
    "* `f` es una función,\n",
    "* `x` es un punto del dominio de `f`, y\n",
    "* `h` es un valor grande,\n",
    "y calcule una aproximación de $f^\\prime(x)$ usando el valor `h`.\n",
    "\n",
    "**Sugerencia** Puedes crear esta función en una sola línea (sin usar la sintáxis que utiliza la _keryword_ `function`)."
   ]
  },
  {
   "cell_type": "code",
   "execution_count": 2,
   "id": "8bdc01d3",
   "metadata": {},
   "outputs": [
    {
     "data": {
      "text/plain": [
       "derivadaNumérica (generic function with 1 method)"
      ]
     },
     "execution_count": 2,
     "metadata": {},
     "output_type": "execute_result"
    }
   ],
   "source": [
    "# Podemos utilizar la definción de derivada: f'(x)=lim(h->0)[f(x+h)-f(x)]/h.\n",
    "\n",
    "function derivadaNumérica(f, x, h)\n",
    "    return (f(x + h) - f(x)) / h\n",
    "end\n",
    "\n",
    "# En el código anterior, f es la función de entrada, x es el punto en el que se aproxima la derivada y h es un valor pequeño \n",
    "# que determina el tamaño de paso utilizado en la aproximación. La derivada de f en x se aproxima usando la fórmula \n",
    "# (f(x + h) - f(x)) / h, que es una aproximación de diferencia central.\n",
    "\n",
    "# Se mencionó que h deber ser un valor grande, pero para una diferenciación numérica precisa, generalmente es mejor usar un valor pequeño para h \n",
    "# (por ejemplo, 0.0001 o 0.001) para obtener resultados más precisos."
   ]
  },
  {
   "cell_type": "code",
   "execution_count": 3,
   "id": "d472c334",
   "metadata": {},
   "outputs": [
    {
     "name": "stdout",
     "output_type": "stream",
     "text": [
      "4.000999999999699\n"
     ]
    }
   ],
   "source": [
    "# Definimos nuestra función f\n",
    "f(x) = x^2\n",
    "\n",
    "# Aproximamos la derivada considerando los siguientes parámetros\n",
    "x = 2\n",
    "h = 0.001\n",
    "derivada_aproximada = derivadaNumérica(f, x, h)\n",
    "\n",
    "println(derivada_aproximada)"
   ]
  },
  {
   "cell_type": "markdown",
   "id": "ae321128",
   "metadata": {},
   "source": [
    "**Ejercicio** Crea una variación de la función `newton` llamada `newtonDM` que implemente el método de Newton calculando la **derivada numérica** de f en vez de tener a la derivada f como argumento.\n",
    "\n",
    "**Sugerencia** Usa la función derivadaNumérica."
   ]
  },
  {
   "cell_type": "code",
   "execution_count": null,
   "id": "bf2c1665",
   "metadata": {},
   "outputs": [],
   "source": [
    "function newtonDM(f, x0, ϵ=1e-6, max_iter=100)\n",
    "    x = x0\n",
    "    iter = 0\n",
    "    \n",
    "    while abs(f(x)) > ϵ && iter < max_iter\n",
    "        f′ = (f(x + ϵ) - f(x)) / ϵ\n",
    "        x -= f(x) / f′\n",
    "        iter += 1\n",
    "    end\n",
    "    \n",
    "    if iter == max_iter\n",
    "        println(\"El método de Newton no convergió después de $max_iter iteraciones.\")\n",
    "    else\n",
    "        println(\"El método de Newton convergió después de $iter iteraciones.\")\n",
    "    end\n",
    "    \n",
    "    return x\n",
    "end\n",
    "\n",
    "#En este código, la función newtonDM toma los siguientes argumentos:\n",
    "# \"f\": La función para la cual se desea encontrar la raíz.\n",
    "# x0: El punto inicial para comenzar el método de Newton.\n",
    "# ϵ: La tolerancia para la condición de convergencia. El valor predeterminado es 1e-6.\n",
    "# max_iter: El número máximo de iteraciones permitidas. El valor predeterminado es 100.\n",
    "\n",
    "#Dentro del bucle while, calculamos la derivada numérica f′ de f en el punto x utilizando la aproximación de diferencia finita\n",
    "#hacia adelante. Luego, actualizamos el valor de x utilizando la fórmula del método de Newton: x = x0- f(x) / f'(x) ó x -=f(x)/f'(x)\n",
    "\n",
    "#Finalmente, se realiza un seguimiento del número de iteraciones y se imprime un mensaje indicando si el método de Newton converge o no."
   ]
  },
  {
   "cell_type": "code",
   "execution_count": null,
   "id": "5b6b61d5",
   "metadata": {},
   "outputs": [],
   "source": [
    "f(x) = x^2 - 2\n",
    "x0 = 1.5\n",
    "\n",
    "raiz = newtonDM(f, x0)\n",
    "println(\"La raíz encontrada es: \", raiz)\n",
    "\n",
    "#En este ejemplo, la función f(x) = x^2 - 2 tiene una raíz en la raíz cuadrada de 2, que se espera que se encuentre cerca \n",
    "#de x0 = 1.5. La función newtonDM encuentra esta raíz utilizando el método de Newton"
   ]
  },
  {
   "cell_type": "markdown",
   "id": "ce64beaa",
   "metadata": {},
   "source": [
    "**Ejercicio** Crea parámetros interactivos \n",
    "* `x0` en el rango `-10:0.1:10`, para la \"adivinanza\" incial;\n",
    "* `h` en `1000:1000:1000000`, para la aproximación de las derivadas numéricas como en la ecuación (*);\n",
    "* `n` en `1:1000`, para el núemero de iteracionesdel método de Newton.\n",
    "y utilízalos para crear una gráfica de la función\n",
    "\n",
    "f = cos"
   ]
  },
  {
   "cell_type": "code",
   "execution_count": 47,
   "id": "ad1e926d",
   "metadata": {},
   "outputs": [
    {
     "name": "stderr",
     "output_type": "stream",
     "text": [
      "\u001b[32m\u001b[1m   Resolving\u001b[22m\u001b[39m package versions...\n",
      "\u001b[32m\u001b[1m  No Changes\u001b[22m\u001b[39m to `C:\\Users\\Joshua Abraham\\.julia\\environments\\v1.8\\Project.toml`\n",
      "\u001b[32m\u001b[1m  No Changes\u001b[22m\u001b[39m to `C:\\Users\\Joshua Abraham\\.julia\\environments\\v1.8\\Manifest.toml`\n"
     ]
    }
   ],
   "source": [
    "import Pkg\n",
    "Pkg.add(\"Plots\")"
   ]
  },
  {
   "cell_type": "code",
   "execution_count": null,
   "id": "8d2b4d64",
   "metadata": {},
   "outputs": [],
   "source": [
    "using Plots\n",
    "\n",
    "function newton_method(f, df, x0, n)\n",
    "    x_vals = [x0]\n",
    "    for i in 1:n\n",
    "        x = x_vals[end]\n",
    "        fx = f(x)\n",
    "        dfx = df(x)\n",
    "        push!(x_vals, x - fx / dfx)\n",
    "    end\n",
    "    return x_vals\n",
    "end\n",
    "\n",
    "x0_range = -10:0.1:10\n",
    "h_range = 1000:1000:1000000\n",
    "n_range = 1:1000\n",
    "\n",
    "f(x) = cos(x)\n",
    "df(x) = -sin(x)\n",
    "\n",
    "x_vals = Float64[]\n",
    "y_vals = Float64[]\n",
    "\n",
    "for x0 in x0_range\n",
    "    for h in h_range\n",
    "        for n in n_range\n",
    "            x_vals = [x_vals; newton_method(f, df, x0, n)]\n",
    "            y_vals = [y_vals; f.(x_vals[end-n:end])]\n",
    "        end\n",
    "    end\n",
    "end\n",
    "\n",
    "plot(x_vals, y_vals, marker = true, linestyle = :solid)\n",
    "\n",
    "\n",
    "#Este código no termino de ejecutarse correctamente, pero la idea tras el código es que la función \"newton_method\"\n",
    "# implementa el método de Newton para encontrar las raíces de una función. Recibe la función f, su derivada df, \n",
    "#la suposición inicial x0 y el número de iteraciones n, luego devuelve una lista de los valores de x encontrados \n",
    "#durante las iteraciones.\n",
    "# Luego, se definen los rangos \"x0_range\", \"h_range\" y \"n_range\".\n",
    "#La función f(x) define la función coseno, y df(x) define su derivada.\n",
    "#Después, se realiza un bucle sobre los rangos \"x0_range\", \"h_range\" y \"n_range\". En cada iteración, se llama a newton_method \n",
    "#con los parámetros correspondientes y se agregan los puntos (x_i, f(x_i)) a las listas x_vals e y_vals.\n",
    "\n",
    "#Finalmente, se traza la gráfica utilizando plot, donde los puntos se marcan y se unen con líneas rectas."
   ]
  }
 ],
 "metadata": {
  "kernelspec": {
   "display_name": "Julia 1.8.5",
   "language": "julia",
   "name": "julia-1.8"
  },
  "language_info": {
   "file_extension": ".jl",
   "mimetype": "application/julia",
   "name": "julia",
   "version": "1.8.5"
  }
 },
 "nbformat": 4,
 "nbformat_minor": 5
}
