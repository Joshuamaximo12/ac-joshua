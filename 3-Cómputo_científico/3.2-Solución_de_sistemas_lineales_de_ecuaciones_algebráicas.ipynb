{
 "cells": [
  {
   "cell_type": "markdown",
   "id": "95b518e4",
   "metadata": {},
   "source": [
    "# Solución de sistemas lineales de ecuaciones algebráicas\n",
    "\n",
    "## Motivación\n",
    "\n",
    "Los sistemas lineales de ecuaciones algebráicas son útiles para modelar muchos problemas científicos tales como el balanceo de ecuaciones químicas, el cálculo de corrientes en circuitos electrónicos, además de tener muchísimas aplicaciones dentro de la computación y las mismas matemáticas. Por ello, es de gran utilidad saber cómo se pueden implementar métodos numéricos que resuelvan este tipo de sistemas."
   ]
  },
  {
   "cell_type": "markdown",
   "id": "bef591a1",
   "metadata": {},
   "source": [
    "## Sistemas lineales de ecuaciones algebráicas\n",
    "\n",
    "Un _sistema de ecuaciones_ es un grupo de ecuaciones que deben cumplirse simultáneamente. En general, podemos expresar un sistema de $m$ ecuaciones y $n$ incógnitas como\n",
    "\n",
    "$$f_1(x_1,x_2,\\dots,x_n) = 0,$$\n",
    "\n",
    "$$f_2(x_1,x_2,\\dots,x_n) = 0,$$\n",
    "\n",
    "$$\\vdots$$\n",
    "\n",
    "$$f_m(x_1,x_2,\\dots,x_n) = 0,$$\n",
    "\n",
    "donde $f_j$ es una función arbitraria, con $1\\leq j\\leq m$. Una _solución_ al sistema es una $n$-tupla de valores $(x_1,x_2,\\dots,x_n)$ para los cuales todas las ecuaciones del sistema se verifican. Un _sistema de ecuaciones algebráicas_ es aquel donde todas las funciones $f_j$ son **polinomios** en las variables $x_1,x_2,\\dots,x_n$; más aún, un sistema de este tipo es _lineal_ si en todas las ecuaciones del sistema las incógnitas $x_1,x_2,\\dots,x_n$ **no aparecen elevadas a una potencia mayor que uno** y **tampoco aparecen productos entre las diferentes incógnitas**.\n",
    "\n",
    "En este _notebook_ veremos un método para solucionar sistemas lineales de ecuaciones algebráicas de $n$ ecuaciones y $n$ variables, donde todas las ecuaciones son _linealmente independientes_. En general, este tipo de sistemas se pueden escribir de la siguiente forma (verifica que cumpla las definiciones anteriores):\n",
    "\n",
    "$$ a_{11}x_1 + a_{12}x_2 + \\dots + a_{1n}x_n = b_1, $$\n",
    "\n",
    "$$ a_{21}x_1 + a_{22}x_2 + \\dots + a_{2n}x_n = b_2, $$\n",
    "\n",
    "$$ \\vdots $$\n",
    "\n",
    "$$ a_{n1}x_1 + a_{n2}x_2 + \\dots + a_{nn}x_n = b_n. $$\n",
    "\n",
    "### Operaciones elementales\n",
    "\n",
    "Existen tres \"operaciones elementales\" que le podemos aplicar a este sistema **sin cambiar su conjunto de soluciones**:\n",
    "1. multiplicar una ecuación (de ambos lados) por una constante no nula;\n",
    "1. sumarle a una ecuación alguna de las otras ecuaciones multiplicada por una constante arbitraria;\n",
    "1. intercambiar dos ecuaciones de lugar.\n",
    "\n",
    "El hecho de que la operación 1 no cambie al conjunto de soluciones del sistema se sigue de que, para todo $1\\leq i\\leq n$, si $c\\neq0$, entonces\n",
    "\n",
    "$$c(a_{i1}x_1 + a_{i2}x_2 + \\dots + a_{in}x_n - b_i) = 0 \\iff a_{i1}x_1 + a_{i2}x_2 + \\dots + a_{in}x_n - b_i = 0.$$\n",
    "\n",
    "Similarmente, el hecho de que la operación 2 no cambie al conjunto de soluciones del _sistema_ se sigue de que, para cualesquiera $1\\leq i,j\\leq n$ y para cualquier constante arbitraria $c'$,\n",
    "\n",
    "\\begin{align}\n",
    "    (a_{i1}x_1 + a_{i2}x_2 + \\dots + a_{in}x_n - b_i) = 0 \\ &\\land \\ (a_{j1}x_1 + a_{j2}x_2 + \\dots + a_{jn}x_n - b_j) = 0 \\\\\n",
    "    &\\iff \\\\\n",
    "    (a_{i1}x_1 + a_{i2}x_2 + \\dots + a_{in}x_n - b_i) \\ &+ \\ c'(a_{j1}x_1 + a_{j2}x_2 + \\dots + a_{jn}x_n - b_j) = 0.\n",
    "\\end{align}\n",
    "\n",
    "En efecto: La primera implicación es directa, mientras que la otra se sigue de que las ecuaciones son linealmente dependientes. Por último, es claro por qué la operación 3 no cambia el conjunto de soluciones pues, después de aplicarla, las ecuaciones del sistema siguen siendo las mismas."
   ]
  },
  {
   "cell_type": "markdown",
   "id": "507ffad4",
   "metadata": {},
   "source": [
    "## Método de eliminación Gaussiana\n",
    "\n",
    "A continuación, veremos un algoritmo que aprovecha las operaciones elementales descritas anteriormente para obtener una solución a un sistema lineal de ecuaciones algebráicas.\n",
    "\n",
    "### Retropropagación\n",
    "\n",
    "Supongamos que, a través de operaciones elementales, podemos transformar el sistema lineal de ecuaciones algebráicas anterior en uno de la forma\n",
    "\n",
    "\\begin{align*}\n",
    "    a'_{11}x_1 \\ + \\ a'_{12}x_2 \\ + \\dots + \\ a'_{1n-1}x_{n-1} \\ + \\ a'_{1n}x_n &= b'_1, \\\\\n",
    "    0 \\ + a'_{22}x_2 + \\dots + a'_{1n-1}x_{n-1} \\ + \\ a'_{1n}x_n &= b'_2, \\\\\n",
    "    & \\ \\vdots \\\\\n",
    "    0 + 0 + \\dots + a'_{n-1,n-1} x_{n-1} + a'_{n-1n}x_n &= b'_{n-1}, \\\\\n",
    "    0 \\ + \\ 0 \\ + \\ \\dots \\ + \\ \\ 0 \\ \\ + \\ \\ \\ a'_{nn}x_n &= b'_n,\n",
    "\\end{align*}\n",
    "\n",
    "con $a'_{ii}\\neq0$ para $1\\leq 1\\leq n$ (en la sección **Reducción** explicaremos por qué es posible lograr esto). Observemos que la última ecuación tiene sólo una incógnita, que podemos despejar para obtener\n",
    "\n",
    "$$x_n = \\frac{b'_n}{a'_{nn}}.$$\n",
    "\n",
    "**Ejercicio** Despeja a $x_{n-1}$ de la penúltima ecuación y sustituye en valor de $x_n$."
   ]
  },
  {
   "cell_type": "markdown",
   "id": "27b76adf",
   "metadata": {},
   "source": [
    "_Escribe tu procedimiento aquí._\n",
    "\n",
    "Sabemos que por la última ecuación que: $$x_n = \\frac{b'_n}{a'_{nn}}.$$\n",
    "Por lo que podemos sustituir el valor de  $x_n$ en la ecuación y hacer el despeje correspondiente como sigue: \n",
    "\\begin{align*}\n",
    "   0 + 0 + \\dots + a'_{n-1,n-1} x_{n-1} + a'_{n-1n}x_n &= b'_{n-1}, \\\\\n",
    "   a'_{n-1,n-1} x_{n-1} + a'_{n-1n}(\\frac{b'_n}{a'_{nn}}) &=b'_{n-1}, \\\\\n",
    "   a'_{n-1,n-1} x_{n-1} &= b'_{n-1} - a'_{n-1n}(\\frac{b'_n}{a'_{nn}}), \\\\\n",
    "   x_{n-1} &= \\frac{b'_{n-1}}{a'_{n-1,n-1}} - \\frac{a'_{n-1n}}{a'_{n-1,n-1}}(\\frac{b'_n}{a'_{nn}}), \\\\\n",
    "    x_{n-1} &= \\frac{1}{a'_{n-1,n-1}}(b'_{n-1} - a'_{n-1n}(\\frac{b'_n}{a'_{nn}}))\n",
    "\\end{align*}\n",
    "\n"
   ]
  },
  {
   "cell_type": "markdown",
   "id": "2d2a55c4",
   "metadata": {},
   "source": [
    "Iterativamente, por cada ecuación que solucionamos, podemos sustituir todos los valores obtenidos hasta el momento en la ecuación _anterior_ para solucionarla también, hasta haber encontrado valores $(x_1,x_2,\\dots,x_n)$ que solucionen todo el sistema. A este procedimiento se le conoce como _retropropagación_.\n",
    "\n",
    "**Ejercicio** Da una fórmula general para el valor de $x_i$, con $1\\leq i<n$, en términos de los $x_j$ para $i < j \\leq n$."
   ]
  },
  {
   "cell_type": "markdown",
   "id": "07ebfddf",
   "metadata": {},
   "source": [
    "_Escribe tu respuesta aquí._\n",
    "\n",
    "\\begin{align*}\n",
    "    a'_{11}x_1 + a'_{12}x_2 + \\dots +  a'_{1n-1}x_{n-1} + a'_{1n}x_n &= b'_1, \\\\\n",
    "    0 + a'_{22}x_2 + \\dots + a'_{1n-1}x_{n-1} \\ + \\ a'_{1n}x_n &= b'_2, \\\\\n",
    "    & \\ \\vdots \\\\\n",
    "    0 + 0 + \\dots + a'_{ij} x_{i} + a'_{i,j+1} x_{j+1} + \\dots + a'_{in}x_n &= b'_{i} , \\\\\n",
    "\\end{align*}\n",
    "\n",
    "Sean $x_j$ elementos posteriores a $x_i$.\n",
    "Si $x_i$=$x_j$, entonces\n",
    "\n",
    "\\begin{align*}\n",
    "    a'_{ij} x_{i} &= b'_{i} - ( a'_{i+1,j+1} x_{j+1} + a'_{i+2,j+2} x_{j+2} + \\dots + a'_{in,jn}x_n), \\\\\n",
    "    x_{i} &= \\frac{1}{a'_{ij}}(b'_{i} - ( a'_{i+1,j+1} x_{j+1} + a'_{i+2,j+2} x_{j+2} + \\dots + a'_{in,jn}x_n)) \n",
    "\\end{align*}\n",
    "\n",
    "Entonces se puede expresar de la siguiente forma\n",
    "\n",
    "\\begin{align*}\n",
    "x_{i} = \\frac{b_{i}}{a'_{ij}}-\\frac{1}{a'_{ij}}(\n",
    "\\\n",
    "\\sum_{i,j=1}^{n}a_{ij} x_{j})\n",
    "\\\n",
    "\\end{align*}"
   ]
  },
  {
   "cell_type": "markdown",
   "id": "a0407b0e",
   "metadata": {},
   "source": [
    "**Nota** Lo que nos asegura que los coeficientes $a_{ii}$ con $1\\leq i\\leq n$ son distintos de cero y, por lo tanto, que nuestras soluciones para $x_n, x_{n-1},\\dots,x_1$ están bien definidas es que las ecuaciones del sistema sean linealmente independientes. Esto es equivalente a que la matriz cuadrada tenga un determinante distinto de cero. A este tipo de matrices se les llama _matrices no singulares_."
   ]
  },
  {
   "cell_type": "markdown",
   "id": "70c87c91",
   "metadata": {},
   "source": [
    "### Reducción\n",
    "\n",
    "Al proceso de tomar un sistema lineal de $n$ ecuaciones algebráicas y $n$ incógnitas\n",
    "\n",
    "$$ a_{11}x_1 + a_{12}x_2 + \\dots + a_{1n}x_n = b_1, $$\n",
    "\n",
    "$$ a_{21}x_1 + a_{22}x_2 + \\dots + a_{2n}x_n = b_2, $$\n",
    "\n",
    "$$ \\vdots $$\n",
    "\n",
    "$$ a_{n1}x_1 + a_{n2}x_2 + \\dots + a_{nn}x_n = b_n, $$\n",
    "\n",
    "y transformarlo a través de operaciones elementales en uno de la forma\n",
    "\n",
    "\\begin{align*}\n",
    "    a'_{11}x_1 \\ + \\ a'_{12}x_2 \\ + \\dots + \\ a'_{1n-1}x_{n-1} \\ + \\ a'_{1n}x_n &= b'_1, \\\\\n",
    "    0 \\ + a'_{22}x_2 + \\dots + a'_{1n-1}x_{n-1} \\ + \\ a'_{1n}x_n &= b'_2, \\\\\n",
    "    & \\ \\vdots \\\\\n",
    "    0 + 0 + \\dots + a'_{n-1,n-1} x_{n-1} + a'_{n-1n}x_n &= b'_{n-1}, \\\\\n",
    "    0 \\ + \\ 0 \\ + \\ \\dots \\ + \\ \\ 0 \\ \\ + \\ \\ \\ a'_{nn}x_n &= b'_n.\n",
    "\\end{align*}\n",
    "\n",
    "se le conoce como _reducción_, y esto último se conoce como la _forma reducida_ del sistema. Una _transformación elemental_ es la transformación de una ecuación del sistema en otra a través de operaciones elementales.\n",
    "\n",
    "Sea $E_i$ la $i$-ésima ecuación del sistema no reducido. Si $E_1$ tiene un coeficiente $a_{11}$ distinto de cero, definimos\n",
    "\n",
    "$$ E_1 =: E'_1; \\quad (1) $$\n",
    "\n",
    "de lo contrario, primero intercambiemos a $E_1$ por alguna ecuación $E_j$ con el coeficiente $a_{j1}$ de $x_1$ distinto de cero\n",
    "\n",
    "$$E_1 \\leftrightarrow E_j$$\n",
    "\n",
    "y después definimos a $E_1'$ usando la ecuación (1). En ambos casos, redefinamos sus coeficientes como $a'_{11}:= a_{j1}, a'_{12}:= a_{j2},\\dots, b'_1:=b_j$, obteniendo la ecuación\n",
    "\n",
    "$$E'_1: a'_{11}x_1 + a'_{12}x_2 + ... + a'_{1n} x_n = b'_1,$$\n",
    "\n",
    "con $a'_{11}\\neq0$.\n",
    "\n",
    "Ahora, observemos que, si $E_2$ tiene un coeficiente $a_{22}$ distinto de cero, entonces al aplicar la transformación elemental\n",
    "\n",
    "$$E_2 \\to E_2 - \\frac{a_{21}}{a'_{11}} E_1' =: E'_2 \\quad (2)$$\n",
    "\n",
    "la ecuación resultante $E'_2$ tendrá un coeficiente nulo en $x_1$ y no nulo en $x_2$ (Escríbela a mano y verifícalo); en cambio, si $a_{22} = 0$, primero debemos intercambiar a $E_2$ por alguna ecuación $E_k$ con el coeficiente $a_{k2}$ de $x_2$ distinto de cero\n",
    "\n",
    "$$ E_2 \\leftrightarrow E_k $$\n",
    "\n",
    "y después definir a $E'_2$ con la ecuación (2) para que la ecuación resultante tenga un coeficiente nulo en $x_1$ y no nulo en $x_2$. En ambos casos, definimos a los coeficientes de la ecuación $E'_2$, obteniendo\n",
    "\n",
    "$$E'_2: a'_{21}x_1 + a'_{22}x_2 + ... + a'_{2n} x_n = b'_2,$$\n",
    "\n",
    "con $a'_{21}=0$ y $a'_{22}\\neq0$.\n",
    "\n",
    "Luego, si $E_3$ tiene un coeficiente $a_{33}$ distinto de cero, entonces al aplicar la transformación elemental\n",
    "\n",
    "$$ E_3 \\to E_3 - \\frac{a_{31}}{a'_{11}} E_1' - \\frac{a_{32}}{a'_{22}} E_2' =: E'_3 \\quad (3) $$\n",
    "\n",
    "la ecuación resultante $E'_3$ tendrá coeficientes nulos en $x_1$ y $x_2$, y un coeficiente no nulo en $x_3$; en cambio, si $a_{33} = 0$, primero debemos intercambiar a $E_3$ por alguna ecuación $E_m$ con el coeficiente $a_{l3}$ de $x_3$ distinto de cero\n",
    "\n",
    "$$ E_3 \\leftrightarrow E_l $$\n",
    "\n",
    "y después definir\n",
    "\n",
    "y después definir a $E'_3$ con la ecuación (3) para que la ecuación resultante tenga un coeficiente nulo en $x_1$ y $x_2$, y no nulo en $x_3$. En ambos casos, definimos a los coeficientes de la ecuación $E'_3$, obteniendo\n",
    "\n",
    "$$E'_3: a'_{31}x_1 + a'_{32}x_2 + ... + a'_{3n} x_n = b'_3,$$\n",
    "\n",
    "con $a'_{31}=a'_{32}=0$ y $a'_{33}\\neq0$. (¿Observas un patrón? En serio, es muy importante que escribas al menos estos dos primeros pasos a mano, para que realmente lo _observes_.).\n",
    "\n",
    "Podemos seguir aplicando el mismo procedimiento iterativamente hasta haber obtenido ecuaciones $E'_1, E'_2, \\dots, E'_n$, las cuales forman un sistema _reducido_ al cual le podemos aplicar _retropropagación_.\n",
    "\n",
    "**Nota** La razón por la que **debe existir** una ecuación $E_j$ con coeficiente $a_{j1}\\neq0$ con el cual podamos definir a $E'_1$ y empezar el proceso de reducción es que, de lo contrario, ¡el sistema tendría $n-1$ incógnitas en vez de $n$!\n",
    "\n",
    "Observemos que las transformaciones elementales **no afectan a las incógnitas** $x_1,x_2\\dots,x_n$, sino que **sólo afectan a los coeficientes** $a_{ij}, b_i$, con $1\\leq i,j\\leq n$. Por lo tanto, podemos hacer reducción _sólo considerando a los coeficientes del sistema_. Similarmente, notemos que, para hacer retropropagación, _sólo necesitamos a los coeficientes del sistema reducido_. Esto nos lleva desechar los sistemas en favor de una representación más sencilla de visualizar y de implementar en código."
   ]
  },
  {
   "cell_type": "markdown",
   "id": "0cf2ebb0",
   "metadata": {},
   "source": [
    "### Representación matricial\n",
    "\n",
    "\n",
    "Consideremos, nuevamente, un sistema lineal de ecuaciones algebráicas\n",
    "\n",
    "$$ a_{11}x_1 + a_{12}x_2 + \\dots + a_{1n}x_n = b_1, $$\n",
    "\n",
    "$$ a_{21}x_1 + a_{22}x_2 + \\dots + a_{2n}x_n = b_2, $$\n",
    "\n",
    "$$ \\vdots $$\n",
    "\n",
    "$$ a_{n1}x_1 + a_{n2}x_2 + \\dots + a_{nn}x_n = b_n. $$\n",
    "\n",
    "Como tal vez sospeches por la notación de los coeficientes, podemos escribir este sistema como una sola ecuación vectorial\n",
    "\n",
    "$$ \\begin{pmatrix} a_{11} &a_{12} &\\dots &a_{1n} \\\\ a_{21} &a_{22} &\\dots &a_{2n} \\\\ \\vdots &\\vdots &\\ddots &\\vdots \\\\ a_{n1} &a_{n2} &\\dots &a_{nn} \\end{pmatrix} \\begin{pmatrix} x_1 \\\\ x_2 \\\\ \\vdots \\\\ x_n \\end{pmatrix} = \\begin{pmatrix} b_1 \\\\ b_2 \\\\ \\vdots \\\\ b_n \\end{pmatrix}; $$\n",
    "\n",
    "o, de forma más sucinta,\n",
    "\n",
    "$$ A \\vec{x} = \\vec{b}. $$\n",
    "\n",
    "Observemos que podemos representar a nuestro sistema de ecuaciones con la matriz aumentada\n",
    "\n",
    "$$ \\big( A\\mid\\vec{b} \\ \\big) = \\begin{pmatrix} a_{11} &a_{12} &\\dots &a_{1n} &\\mid &b_1 \\\\ a_{21} &a_{22} &\\dots &a_{2n} &\\mid &b_2 \\\\ \\vdots &\\vdots &\\ddots &\\vdots &\\mid &\\vdots \\\\ a_{n1} &a_{n2} &\\dots &a_{nn} &\\mid &b_n \\end{pmatrix}. $$\n",
    "\n",
    "De esta forma, cada renglón de la matriz aumentada representa una ecuación de nuestro sistema... ¡y las operaciones elementales que vimos para sistemas lineales de ecuaciones _coinciden completamente_ con operaciones elementales de matrices! (De hecho, de ahí viene el nombre.) Recordando que las transformaciones elementales sólo afectan a los **coeficientes** de un sistema lineal de ecuaciones, entonces podemos aplicarle **reducción** a la matriz aumentada para llevarla a su forma reducida\n",
    "\n",
    "$$ \\begin{pmatrix} a'_{11} &a'_{12} &\\dots &a'_{1n} &\\mid &b'_1 \\\\ 0 &a'_{22} &\\dots &a'_{2n} &\\mid &b'_2 \\\\ \\vdots &\\vdots &\\ddots &\\vdots &\\mid &\\vdots \\\\ 0 &0 &\\dots &a'_{nn} &\\mid &b'_n \\end{pmatrix}. $$\n",
    "\n",
    "Luego, recordando que la retropropagación se puede llevar a cabo sólo con los coeficientes del sistema reducido, ¡podemos utilizar esta matriz reducida para encontrar la solución de nuestro sistema!"
   ]
  },
  {
   "cell_type": "markdown",
   "id": "139f4699",
   "metadata": {},
   "source": [
    "## Implementación\n",
    "\n",
    "Para este punto, ya debes tener motivación para resolver un problema importante y ubicuo, así como un plan de acción respaldado por una teoría sensata. Ahora sí, ¡te toca implementarlo!\n",
    "\n",
    "Como sugerencia general, te recomiendo recordar que puedes crear celdas de Jupyter libremente para experimentar con tu código, probarlo con diferentes parámetros, ver si funciona como esperas, e irlo corrigiendo en caso de que no. Además, si así lo deseas, puedes empezar resolviendo sistemas pequeños (por ejemplo, de dos ecuaciones) y, ya que tengas una noción de los procedimientos y cómo implementarlos, generalizar tu código para que también pueda resolver sistemas más grandes. \n",
    "\n",
    "**Ejercicio** Crea una función `retropropagación` con un argumento `M`, que puedes suponer que es una matriz aumentada de la forma\n",
    "\n",
    "$$ \\begin{pmatrix} a'_{11} &a'_{12} &\\dots &a'_{1n} &\\mid &b'_1 \\\\ 0 &a'_{22} &\\dots &a'_{2n} &\\mid &b'_2 \\\\ \\vdots &\\vdots &\\ddots &\\vdots &\\mid &\\vdots \\\\ 0 &0 &\\dots &a'_{nn} &\\mid &b'_n \\end{pmatrix} $$\n",
    "\n",
    "-es decir, aquella formada por una matriz triangulada superior y un vector $\\vec{b}'$-, que aplique retropropagación a la matriz `M` y devuelva como resultado un arreglo con el vector solución $\\vec{x}$."
   ]
  },
  {
   "cell_type": "code",
   "execution_count": 18,
   "id": "8afe23d4",
   "metadata": {},
   "outputs": [
    {
     "data": {
      "text/plain": [
       "5×5 Matrix{Int64}:\n",
       " 1  3   4  5  2\n",
       " 1  8   6  7  8\n",
       " 7  9  10  2  6\n",
       " 8  7   1  9  0\n",
       " 2  1   7  9  0"
      ]
     },
     "execution_count": 18,
     "metadata": {},
     "output_type": "execute_result"
    }
   ],
   "source": [
    "# Primero vamos a crear una matrix de 5x5 y un vector de 5 elementos para realizar la matriz aumentada.\n",
    "A = [1 3 4 5 2; 1 8 6 7 8; 7 9 10 2 6; 8 7 1 9 0; 2 1 7 9 0]"
   ]
  },
  {
   "cell_type": "code",
   "execution_count": 17,
   "id": "1d9e9e93",
   "metadata": {},
   "outputs": [
    {
     "data": {
      "text/plain": [
       "5-element Vector{Int64}:\n",
       " 2\n",
       " 1\n",
       " 5\n",
       " 7\n",
       " 8"
      ]
     },
     "execution_count": 17,
     "metadata": {},
     "output_type": "execute_result"
    }
   ],
   "source": [
    "b = [2; 1; 5; 7; 8] #Vector de 5 elementos"
   ]
  },
  {
   "cell_type": "code",
   "execution_count": 22,
   "id": "336d7533",
   "metadata": {},
   "outputs": [
    {
     "data": {
      "text/plain": [
       "5×6 Matrix{Int64}:\n",
       " 1  3   4  5  2  2\n",
       " 1  8   6  7  8  1\n",
       " 7  9  10  2  6  5\n",
       " 8  7   1  9  0  7\n",
       " 2  1   7  9  0  8"
      ]
     },
     "execution_count": 22,
     "metadata": {},
     "output_type": "execute_result"
    }
   ],
   "source": [
    "# Para crear la matriz aumentada podemos usar el comando hcat(A,b)\n",
    "\n",
    "C = hcat(A,b)"
   ]
  },
  {
   "cell_type": "code",
   "execution_count": 31,
   "id": "5b3a9532",
   "metadata": {},
   "outputs": [
    {
     "data": {
      "text/plain": [
       "retropropacion (generic function with 3 methods)"
      ]
     },
     "execution_count": 31,
     "metadata": {},
     "output_type": "execute_result"
    }
   ],
   "source": [
    "function retropropacion(M)\n",
    "end"
   ]
  },
  {
   "cell_type": "code",
   "execution_count": 32,
   "id": "390e2682",
   "metadata": {},
   "outputs": [
    {
     "data": {
      "text/plain": [
       "5×6 Matrix{Int64}:\n",
       " 1  3   4  5  2  2\n",
       " 1  8   6  7  8  1\n",
       " 7  9  10  2  6  5\n",
       " 8  7   1  9  0  7\n",
       " 2  1   7  9  0  8"
      ]
     },
     "execution_count": 32,
     "metadata": {},
     "output_type": "execute_result"
    }
   ],
   "source": [
    "# Lo que queremos corroborar con la función anterior es que la matriz se de la forma \n",
    "\n",
    "C = hcat(A,b)"
   ]
  },
  {
   "cell_type": "markdown",
   "id": "dc0c2af6",
   "metadata": {},
   "source": [
    "Ya hemos implementado un algoritmo capaz de solucionar matrices reducidas. Ahora, implementaremos otro que realice el proceso de reducción de una matriz aumentada. Como este proceso depende de que las entradas que van quedando en la diagonal sean no nulas -para poder dividir entre ellas-, primero implementaremos una función que se asegure de que esto suceda.\n",
    "\n",
    "**Ejercicio** Crea una función `pivote` que tome tres argumentos `M`, `i` y `j`, y revise si la entrada del renglón `i` y columna `j` de la matriz `M` es igual a cero. En caso que sí lo sea, debe buscar la primera entrada distinta de cero entre los siguientes renglones de la misma columna y, al encontrarla, intercambiar el renglón correspondiente a la entrada no nula con el renglón `i`.\n",
    "\n",
    "Sugerencias: Recuerda que puedes aplicar la función `length` a un vector columna de una matriz para obtener la cantidad de renglones de esa matriz. Además, puedes crear una variable temporal para no perder información durante el intercambio de los renglones."
   ]
  },
  {
   "cell_type": "code",
   "execution_count": 52,
   "id": "82a63dc1",
   "metadata": {},
   "outputs": [
    {
     "data": {
      "text/plain": [
       "pivote (generic function with 1 method)"
      ]
     },
     "execution_count": 52,
     "metadata": {},
     "output_type": "execute_result"
    }
   ],
   "source": [
    "#Con la función pivote lo que vamos a obtner es una matriz aumentada que los elementos de la diagonal sean los mayores, es decir\n",
    "# se va a ordenar la matriz de tal manera que los elementos de la diagonal sean mayores, pensemos en el elemento a_{11}, sabemos\n",
    "# este elemento pertenece a la fila 1 columna 1, pero abajo de éste elemento, es decir, para los elementos de la forma \n",
    "# a_{21} hasta a_{1n} tienen que ser menores que el elementos a_{11}. Análogamente este procedimiento se hará para los demás\n",
    "# elementos de la diagonal, es decir para a_{22}, los elementos por debajo de ésta columna a_{23} ... a_{2n} tienen que ser \n",
    "# que a_{22}, este mismo proceso se hará hasta el elemento n-ésimo de la diagonal, el a_{nn}.\n",
    "\n",
    "function pivote(M:: AbstractArray)\n",
    "    map(1: rank(M)) do i  \n",
    "    i == 1 ? M = M[sortperm(M[:, i] .|> abs, rev = true), :] :\n",
    "    (M = M[2:end, 1:end];\n",
    "    M = M[sortperm(M[:, i] .|> abs, rev = true), :])\n",
    "end |> x -> map(i -> x[i][1, :], 1:length(x)) |> x -> mapreduce(permutedims, vcat, x)\n",
    "end\n",
    "\n"
   ]
  },
  {
   "cell_type": "markdown",
   "id": "cb419e2e",
   "metadata": {},
   "source": [
    "**Ejercicio** Crea una función `reducción` que tome un argumento `M`, que puedes suponer que es una matriz aumentada de la forma\n",
    "\n",
    "$$ \\begin{pmatrix} a_{11} &a_{12} &\\dots &a_{1n} &\\mid &b_1 \\\\ a_{21} &a_{22} &\\dots &a_{2n} &\\mid &b_2 \\\\ \\vdots &\\vdots &\\ddots &\\vdots &\\mid &\\vdots \\\\ a_{n1} &a_{n2} &\\dots &a_{nn} &\\mid &b_n \\end{pmatrix} $$\n",
    "\n",
    "que representa un sistema de ecuaciones algebráicas linealmente independientes -y que, por ende, le podemos aplicar reduccion-, que devuelva la matriz reducida correspondiente.\n",
    "\n",
    "Sugerencia: Usa la función `pivote` que creaste anteriormente."
   ]
  },
  {
   "cell_type": "code",
   "execution_count": 50,
   "id": "0829fed7",
   "metadata": {},
   "outputs": [
    {
     "data": {
      "text/plain": [
       "5×6 Matrix{Int64}:\n",
       " 1  3   4  5  2  2\n",
       " 1  8   6  7  8  1\n",
       " 7  9  10  2  6  5\n",
       " 8  7   1  9  0  7\n",
       " 2  1   7  9  0  8"
      ]
     },
     "execution_count": 50,
     "metadata": {},
     "output_type": "execute_result"
    }
   ],
   "source": [
    "#Supongamos que utilizamos la matriz aumentada que ya habíamos calculado previamente\n",
    "C = hcat(A,b)"
   ]
  },
  {
   "cell_type": "code",
   "execution_count": 56,
   "id": "acf33f5a",
   "metadata": {},
   "outputs": [
    {
     "data": {
      "text/plain": [
       "5×6 Matrix{Int64}:\n",
       " 8  7   1  9  0  7\n",
       " 7  9  10  2  6  5\n",
       " 2  1   7  9  0  8\n",
       " 1  8   6  7  8  1\n",
       " 1  3   4  5  2  2"
      ]
     },
     "execution_count": 56,
     "metadata": {},
     "output_type": "execute_result"
    }
   ],
   "source": [
    "using LinearAlgebra\n",
    "pivote(C)\n"
   ]
  },
  {
   "cell_type": "markdown",
   "id": "2206f13c",
   "metadata": {},
   "source": [
    "Si quisieramos ver que hizo la función pivote podemos verlo de la siguiente manera con una matriz aumentada auxiiar más pequeña con el siguiente código."
   ]
  },
  {
   "cell_type": "code",
   "execution_count": 58,
   "id": "5951dc9b",
   "metadata": {},
   "outputs": [
    {
     "data": {
      "text/plain": [
       "4×4 Matrix{Int64}:\n",
       "  1  3  5  8\n",
       "  1  9  7  3\n",
       " 10  7  3  1\n",
       "  9  3  4  7"
      ]
     },
     "execution_count": 58,
     "metadata": {},
     "output_type": "execute_result"
    }
   ],
   "source": [
    "H = [1 3 5 8; 1 9 7 3; 10 7 3 1; 9 3 4 7]"
   ]
  },
  {
   "cell_type": "code",
   "execution_count": 59,
   "id": "89a411f8",
   "metadata": {},
   "outputs": [
    {
     "data": {
      "text/plain": [
       "4-element Vector{Int64}:\n",
       " 4\n",
       " 1\n",
       " 6\n",
       " 9"
      ]
     },
     "execution_count": 59,
     "metadata": {},
     "output_type": "execute_result"
    }
   ],
   "source": [
    "h = [4; 1; 6; 9]"
   ]
  },
  {
   "cell_type": "code",
   "execution_count": 61,
   "id": "8c374e47",
   "metadata": {},
   "outputs": [
    {
     "data": {
      "text/plain": [
       "4×5 Matrix{Int64}:\n",
       "  1  3  5  8  4\n",
       "  1  9  7  3  1\n",
       " 10  7  3  1  6\n",
       "  9  3  4  7  9"
      ]
     },
     "execution_count": 61,
     "metadata": {},
     "output_type": "execute_result"
    }
   ],
   "source": [
    "D = hcat(H, h)"
   ]
  },
  {
   "cell_type": "code",
   "execution_count": 62,
   "id": "f5dba030",
   "metadata": {},
   "outputs": [
    {
     "data": {
      "text/plain": [
       "4×5 Matrix{Int64}:\n",
       " 10  7  3  1  6\n",
       "  9  3  4  7  9\n",
       "  1  3  5  8  4\n",
       "  1  9  7  3  1"
      ]
     },
     "execution_count": 62,
     "metadata": {},
     "output_type": "execute_result"
    }
   ],
   "source": [
    "#Ahora sí la idea tras de fondo es ordenar la matriz aumentada D de la siguiente manera.\n",
    "\n",
    "D = D[sortperm(D[:, 1], rev = true), :]"
   ]
  },
  {
   "cell_type": "code",
   "execution_count": 63,
   "id": "ffce6ba6",
   "metadata": {},
   "outputs": [
    {
     "data": {
      "text/plain": [
       "3×5 Matrix{Int64}:\n",
       " 1  9  7  3  1\n",
       " 9  3  4  7  9\n",
       " 1  3  5  8  4"
      ]
     },
     "execution_count": 63,
     "metadata": {},
     "output_type": "execute_result"
    }
   ],
   "source": [
    "D = D[2:end, 1:end]\n",
    "D = D[sortperm(D[:, 2], rev = true), :]"
   ]
  },
  {
   "cell_type": "code",
   "execution_count": 64,
   "id": "0a965bfe",
   "metadata": {},
   "outputs": [
    {
     "data": {
      "text/plain": [
       "2×5 Matrix{Int64}:\n",
       " 1  3  5  8  4\n",
       " 9  3  4  7  9"
      ]
     },
     "execution_count": 64,
     "metadata": {},
     "output_type": "execute_result"
    }
   ],
   "source": [
    "D = D[2:end, 1:end]\n",
    "D = D[sortperm(D[:, 3], rev = true), :]"
   ]
  },
  {
   "cell_type": "code",
   "execution_count": 65,
   "id": "efe3ab39",
   "metadata": {},
   "outputs": [
    {
     "data": {
      "text/plain": [
       "1×5 Matrix{Int64}:\n",
       " 9  3  4  7  9"
      ]
     },
     "execution_count": 65,
     "metadata": {},
     "output_type": "execute_result"
    }
   ],
   "source": [
    "D = D[2:end, 1:end]\n",
    "D = D[sortperm(D[:, 4], rev = true), :]"
   ]
  },
  {
   "cell_type": "markdown",
   "id": "725fb2a7",
   "metadata": {},
   "source": [
    "**Ejercicio** Crea una función `solución` con un argumento `M`, que puedes suponer que es una matriz aumentada que representa un sistema de ecuaciones algebráicas linealmente independientes, que integre las funciones `reducción` y `retropropagación` y devuelva un arreglo con el vector solución $\\vec{x}$."
   ]
  },
  {
   "cell_type": "code",
   "execution_count": 77,
   "id": "d3870ac0",
   "metadata": {},
   "outputs": [
    {
     "data": {
      "text/plain": [
       "5×6 Matrix{Int64}:\n",
       " 1  3   4  5  2  2\n",
       " 1  8   6  7  8  1\n",
       " 7  9  10  2  6  5\n",
       " 8  7   1  9  0  7\n",
       " 2  1   7  9  0  8"
      ]
     },
     "execution_count": 77,
     "metadata": {},
     "output_type": "execute_result"
    }
   ],
   "source": [
    "#Para comenzar vamos a usar un ejemplo de lo que pide el ejercicio con código y posteriormente se creará a la función solución.\n",
    "#Tomemos como ejemplo la matriz aumentada que anteriormente se usó, es decir a C .\n",
    "\n",
    "C = hcat(A,b)"
   ]
  },
  {
   "cell_type": "markdown",
   "id": "faca470d",
   "metadata": {},
   "source": [
    "Una vez cargada a la matriz aumentada D, lo que haremos es que todos los elementos por debajo y por arriba de la diagonal sean ceros, a esto se le conoce como escalonar y reducir.\n",
    "Para ello se aplicará un algortimo que para cada columna, todos los elementos sean cero, y los elementos de la diagonal sean 1."
   ]
  },
  {
   "cell_type": "code",
   "execution_count": 78,
   "id": "78aff273",
   "metadata": {},
   "outputs": [
    {
     "data": {
      "text/plain": [
       "5×6 Matrix{Int64}:\n",
       " 1    3    4    5    2   2\n",
       " 0    5    2    2    6  -1\n",
       " 0  -12  -18  -33   -8  -9\n",
       " 0  -17  -31  -31  -16  -9\n",
       " 0   -5   -1   -1   -4   4"
      ]
     },
     "execution_count": 78,
     "metadata": {},
     "output_type": "execute_result"
    }
   ],
   "source": [
    "#Comencemos para la primera columna.\n",
    "\n",
    "C[1, :] = C[1, :] ./C[1,1]                 #Este primer renglón lo que hace es que el elemnto a_{11} se vuelva \"1\", para ello                                 \n",
    "C[2, :] = C[2, :] .- (C[1, :] .* C[2,1])   #se divide a toda la fila por un factor adecuado.\n",
    "C[3, :] = C[3, :] .- (C[1, :] .* C[3,1])\n",
    "C[4, :] = C[4, :] .- (C[1, :] .* C[4,1])\n",
    "C[5, :] = C[5, :] .- (C[1, :] .* C[5,1])\n",
    "C\n",
    "\n",
    "#Una vez que el elemento a_{11} se vuelve \"1\" basta con volver cero a los elementos por debajo de la columna 1, para ello,\n",
    "#se multiplica por un cierto factor a la primera fila y el resultado se resta a las filas siguientes."
   ]
  },
  {
   "cell_type": "code",
   "execution_count": 80,
   "id": "709fbd4b",
   "metadata": {},
   "outputs": [
    {
     "data": {
      "text/plain": [
       "5×6 Matrix{Int64}:\n",
       " 1  0  -2  -1  -16    5\n",
       " 0  1   2   2    6   -1\n",
       " 0  0   6  -9   64  -21\n",
       " 0  0   3   3   86  -26\n",
       " 0  0   9   9   26   -1"
      ]
     },
     "execution_count": 80,
     "metadata": {},
     "output_type": "execute_result"
    }
   ],
   "source": [
    "#Para la segunda columna.\n",
    "\n",
    "C[2, :] = C[2, :] ./C[2,2]\n",
    "C[1, :] = C[1, :] .- (C[2, :] .* C[1,2])\n",
    "C[3, :] = C[3, :] .- (C[2, :] .* C[3,2])\n",
    "C[4, :] = C[4, :] .- (C[2, :] .* C[4,2])\n",
    "C[5, :] = C[5, :] .- (C[2, :] .* C[5,2])\n",
    "C\n"
   ]
  },
  {
   "cell_type": "code",
   "execution_count": 82,
   "id": "7f828e01",
   "metadata": {},
   "outputs": [
    {
     "data": {
      "text/plain": [
       "5×6 Matrix{Int64}:\n",
       " 1  0  0  -19   112  -37\n",
       " 0  1  0   20  -122   41\n",
       " 0  0  1   -9    64  -21\n",
       " 0  0  0   30  -106   37\n",
       " 0  0  0   90  -550  188"
      ]
     },
     "execution_count": 82,
     "metadata": {},
     "output_type": "execute_result"
    }
   ],
   "source": [
    "#Para la tercer columna.\n",
    "\n",
    "C[3, :] = C[3, :] ./C[3,3]\n",
    "C[1, :] = C[1, :] .- (C[3, :] .* C[1,3])\n",
    "C[2, :] = C[2, :] .- (C[3, :] .* C[2,3])\n",
    "C[4, :] = C[4, :] .- (C[3, :] .* C[4,3])\n",
    "C[5, :] = C[5, :] .- (C[3, :] .* C[5,3])\n",
    "C"
   ]
  },
  {
   "cell_type": "code",
   "execution_count": 84,
   "id": "4bae1754",
   "metadata": {},
   "outputs": [
    {
     "data": {
      "text/plain": [
       "5×6 Matrix{Int64}:\n",
       " 1  0  0  0  -1902    666\n",
       " 0  1  0  0   1998   -699\n",
       " 0  0  1  0   -890    312\n",
       " 0  0  0  1   -106     37\n",
       " 0  0  0  0   8990  -3142"
      ]
     },
     "execution_count": 84,
     "metadata": {},
     "output_type": "execute_result"
    }
   ],
   "source": [
    "#Para la cuarta columna \n",
    "\n",
    "C[4, :] = C[4, :] ./C[4,4]\n",
    "C[1, :] = C[1, :] .- (C[4, :] .* C[1,4])\n",
    "C[2, :] = C[2, :] .- (C[4, :] .* C[2,4])\n",
    "C[3, :] = C[3, :] .- (C[4, :] .* C[3,4])\n",
    "C[5, :] = C[5, :] .- (C[4, :] .* C[5,4])\n",
    "C"
   ]
  },
  {
   "cell_type": "code",
   "execution_count": 86,
   "id": "253ba096",
   "metadata": {},
   "outputs": [
    {
     "data": {
      "text/plain": [
       "5×6 Matrix{Int64}:\n",
       " 1  0  0  0  0  -5975418\n",
       " 0  1  0  0  0   6277017\n",
       " 0  0  1  0  0  -2796068\n",
       " 0  0  0  1  0   -333015\n",
       " 0  0  0  0  1     -3142"
      ]
     },
     "execution_count": 86,
     "metadata": {},
     "output_type": "execute_result"
    }
   ],
   "source": [
    "#Para la quinta columna\n",
    "\n",
    "C[5, :] = C[5, :] ./C[5,5]\n",
    "C[1, :] = C[1, :] .- (C[5, :] .* C[1,5])\n",
    "C[2, :] = C[2, :] .- (C[5, :] .* C[2,5])\n",
    "C[3, :] = C[3, :] .- (C[5, :] .* C[3,5])\n",
    "C[4, :] = C[4, :] .- (C[5, :] .* C[4,5])\n",
    "C\n"
   ]
  },
  {
   "cell_type": "code",
   "execution_count": 87,
   "id": "c4488f19",
   "metadata": {},
   "outputs": [
    {
     "data": {
      "text/plain": [
       "5-element Vector{Float64}:\n",
       "  1.7959595959595955\n",
       " -1.8560606060606057\n",
       "  0.1065656565656566\n",
       "  0.6131313131313132\n",
       "  1.140151515151515"
      ]
     },
     "execution_count": 87,
     "metadata": {},
     "output_type": "execute_result"
    }
   ],
   "source": [
    "# Como se pudo observar fue posible reducir y escalonar la matriz aumentada, sin embargo, este algoritmo no suele ser tan bueno\n",
    "#debido a que en ocasiones se puede dividir entre cero y generar un error, o algo común es que los elementos de la matriz pueden\n",
    "#ser de tipo Int64 y el valor para cada variable puede ser de tipo Float64, ocasionando cálculos errones, por ejemplo, al\n",
    "#verificar con la siguiente sintaxis A\\b el valor para cada variable obtenemos:\n",
    "\n",
    "A\\b\n",
    "\n",
    "#Lo cual lo que se calculó anteriormente es erroneo, pero sirvió para implemntar una función que haga todo ese algortimo y \n",
    "#además se especificará el tipo de dato con el que se desea operar las matrices como sigue:\n"
   ]
  },
  {
   "cell_type": "code",
   "execution_count": 88,
   "id": "134b10d4",
   "metadata": {},
   "outputs": [
    {
     "data": {
      "text/plain": [
       "solucion (generic function with 1 method)"
      ]
     },
     "execution_count": 88,
     "metadata": {},
     "output_type": "execute_result"
    }
   ],
   "source": [
    "function solucion(M::AbstractArray)\n",
    "    map(1:rank(M)) do i\n",
    "    [\n",
    "        \n",
    "       (M[i, :] = M[i, :] ./ M[i, i];\n",
    "       M[j, :] = M[j, :] .- (M[i, :] .* M[j, i]))\n",
    "        \n",
    "    for j in 1:rank(M) if j != i]\n",
    "  end\n",
    "  return M\n",
    "end"
   ]
  },
  {
   "cell_type": "code",
   "execution_count": 89,
   "id": "265e9b26",
   "metadata": {},
   "outputs": [
    {
     "data": {
      "text/plain": [
       "5×5 Matrix{Int64}:\n",
       " 1  3   4  5  2\n",
       " 1  8   6  7  8\n",
       " 7  9  10  2  6\n",
       " 8  7   1  9  0\n",
       " 2  1   7  9  0"
      ]
     },
     "execution_count": 89,
     "metadata": {},
     "output_type": "execute_result"
    }
   ],
   "source": [
    "#Volvemos a ejecutar los valores originales de la matriz, el vector, asi como la matriz aumentada para calcular el valor de la \n",
    "A = [1 3 4 5 2; 1 8 6 7 8; 7 9 10 2 6; 8 7 1 9 0; 2 1 7 9 0]"
   ]
  },
  {
   "cell_type": "code",
   "execution_count": 90,
   "id": "518137a1",
   "metadata": {},
   "outputs": [
    {
     "data": {
      "text/plain": [
       "5-element Vector{Int64}:\n",
       " 2\n",
       " 1\n",
       " 5\n",
       " 7\n",
       " 8"
      ]
     },
     "execution_count": 90,
     "metadata": {},
     "output_type": "execute_result"
    }
   ],
   "source": [
    "b = [2; 1; 5; 7; 8]"
   ]
  },
  {
   "cell_type": "code",
   "execution_count": 91,
   "id": "867e49a6",
   "metadata": {},
   "outputs": [
    {
     "data": {
      "text/plain": [
       "5×6 Matrix{Int64}:\n",
       " 1  3   4  5  2  2\n",
       " 1  8   6  7  8  1\n",
       " 7  9  10  2  6  5\n",
       " 8  7   1  9  0  7\n",
       " 2  1   7  9  0  8"
      ]
     },
     "execution_count": 91,
     "metadata": {},
     "output_type": "execute_result"
    }
   ],
   "source": [
    "using LinearAlgebra\n",
    "C = hcat(A, b)"
   ]
  },
  {
   "cell_type": "code",
   "execution_count": 96,
   "id": "cdc0f053",
   "metadata": {},
   "outputs": [
    {
     "data": {
      "text/plain": [
       "5×6 Matrix{Int64}:\n",
       " 1  0  0  0  0  -5975418\n",
       " 0  1  0  0  0   6277017\n",
       " 0  0  1  0  0  -2796068\n",
       " 0  0  0  1  0   -333015\n",
       " 0  0  0  0  1     -3142"
      ]
     },
     "execution_count": 96,
     "metadata": {},
     "output_type": "execute_result"
    }
   ],
   "source": [
    "solucion(C)\n",
    "\n",
    "#Como vemos, obtuvimos el mismo resultado que el el cálculado con el código, pero el cual es erroneo, para ello empleamos la \n",
    "#siguiente sintaxis."
   ]
  },
  {
   "cell_type": "code",
   "execution_count": 97,
   "id": "aec6063e",
   "metadata": {},
   "outputs": [
    {
     "data": {
      "text/plain": [
       "5×6 Matrix{Float64}:\n",
       "  1.0   0.0   0.0   0.0  0.0   1.79596\n",
       "  0.0   1.0   0.0   0.0  0.0  -1.85606\n",
       "  0.0   0.0   1.0   0.0  0.0   0.106566\n",
       "  0.0   0.0   0.0   1.0  0.0   0.613131\n",
       " -0.0  -0.0  -0.0  -0.0  1.0   1.14015"
      ]
     },
     "execution_count": 97,
     "metadata": {},
     "output_type": "execute_result"
    }
   ],
   "source": [
    "C = hcat(A, b)\n",
    "convert(Matrix{Float64}, C) |> pivote |> solucion"
   ]
  },
  {
   "cell_type": "code",
   "execution_count": 98,
   "id": "fe18ab48",
   "metadata": {},
   "outputs": [
    {
     "data": {
      "text/plain": [
       "5-element Vector{Float64}:\n",
       "  1.7959595959595955\n",
       " -1.8560606060606057\n",
       "  0.1065656565656566\n",
       "  0.6131313131313132\n",
       "  1.140151515151515"
      ]
     },
     "execution_count": 98,
     "metadata": {},
     "output_type": "execute_result"
    }
   ],
   "source": [
    "#Al verificar con A\\b notamos que ahora el resultado es el adecuado, de esta manera hemos encontrado el vector solución a la \n",
    "#matriz aumentada C\n",
    "\n",
    "A\\b"
   ]
  },
  {
   "cell_type": "markdown",
   "id": "462f6ff3",
   "metadata": {},
   "source": [
    "## Cálculo de matrices inversas\n",
    "\n",
    "Una de las características más importantes de las matrices no singulares (esto es, matrices cuadradas con determinante no nulo) es que son invertibles. Es decir que, si $A\\in M_{n\\times n}(\\mathbb{R})$ es tal que $\\text{det}(A)\\neq 0$, entonces existe $C\\in M_{n\\times n}(\\mathbb{R})$ tal que\n",
    "\n",
    "$$ AC = I_{n\\times n} = CA,$$\n",
    "\n",
    "donde $I_{n\\times n}$ es la matriz identidad con $n$ renglones y $n$ columnas. Observemos que, si esto sucede, entonces de la ecuación $AC = I_{n\\times n}$ tenemos que el producto del primer vector columna de $C$ con la matriz $A$ es igual al vector\n",
    "v\n",
    "$$ \\begin{pmatrix} 1 \\\\ 0 \\\\ \\vdots \\\\ 0 \\end{pmatrix}. $$\n",
    "\n",
    "Más generalmente, el producto del $j$-ésimo vector columna de $C$ con la matriz $A$ dará como resultado un vector con $1$ en la $j$-ésima entrada y $0$ en todas las demás.\n",
    "\n",
    "A raíz de esta observación, podemos armar y solucionar $n$ sistemas lineales de ecuaciones distintos y juntar los vectores solución en una matriz, obteniendo así una matriz _inversa por la derecha_ de $A$. Más aún, se puede ver sencillamente con un poquito de álgebra que esta matriz inversa por la derecha debe ser _la_ inversa. En efecto: sea $A\\in M_{n\\times n}(\\mathbb{R})$ una matriz no singular (invertible), $A^{-1}$ su inversa y $C$ una matriz inversa de $A$ por la derecha; entonces\n",
    "\n",
    "$$ \\begin{align*} C &= I_{n\\times n} C \\\\ &= (A^{-1}A)C  \\\\ &= A^{-1}(AC) \\\\ &= A^{-1}I_{n\\times n} \\\\ &= A^{-1}.\\end{align*} $$\n",
    "\n",
    "**Ejercicio** Crea una función `invertir` con un argumento `M`, que puedes suponer que es una matriz cuadrada no singular (invertible), que devuelva la matriz inversa de `M`.\n",
    "\n",
    "Sugerencia: Utiliza la función `solución` que creaste anteriormente."
   ]
  },
  {
   "cell_type": "code",
   "execution_count": 107,
   "id": "06e0c915",
   "metadata": {},
   "outputs": [
    {
     "data": {
      "text/plain": [
       "5×5 Matrix{Int64}:\n",
       " 1  3   4  5  2\n",
       " 1  8   6  7  8\n",
       " 7  9  10  2  6\n",
       " 8  7   1  9  0\n",
       " 2  1   7  9  0"
      ]
     },
     "execution_count": 107,
     "metadata": {},
     "output_type": "execute_result"
    }
   ],
   "source": [
    "A"
   ]
  },
  {
   "cell_type": "code",
   "execution_count": 109,
   "id": "519373a9",
   "metadata": {},
   "outputs": [
    {
     "data": {
      "text/plain": [
       "5×5 Matrix{Float64}:\n",
       " -1.24242    0.260606   0.0666667     0.0949495    0.377778\n",
       "  1.63636   -0.409091   5.87481e-18  -0.00757576  -0.583333\n",
       "  0.393939  -0.148485   0.0666667    -0.0792929   -0.0388889\n",
       " -0.212121   0.10303   -0.0666667     0.0414141    0.122222\n",
       " -1.59091    0.522727   0.0           0.0189394    0.458333"
      ]
     },
     "execution_count": 109,
     "metadata": {},
     "output_type": "execute_result"
    }
   ],
   "source": [
    "# La siguiente sintaxis calcula la matriz inversa M  |> inv\n",
    "#Por ejemplo la matriz inversa de A es:\n",
    "\n",
    "A |> inv"
   ]
  },
  {
   "cell_type": "code",
   "execution_count": 116,
   "id": "1d995858",
   "metadata": {},
   "outputs": [
    {
     "data": {
      "text/plain": [
       "5×5 Matrix{Float64}:\n",
       " 1.0  0.0  0.0  0.0  0.0\n",
       " 0.0  1.0  0.0  0.0  0.0\n",
       " 0.0  0.0  1.0  0.0  0.0\n",
       " 0.0  0.0  0.0  1.0  0.0\n",
       " 0.0  0.0  0.0  0.0  1.0"
      ]
     },
     "execution_count": 116,
     "metadata": {},
     "output_type": "execute_result"
    }
   ],
   "source": [
    "#Para generar una matriz identidad se puede emplear la siguiente sintaxis Matrix{Float64}(I, n, n)\n",
    "B = Matrix{Float64}(I, 5, 5)"
   ]
  },
  {
   "cell_type": "code",
   "execution_count": 111,
   "id": "11c2aec2",
   "metadata": {},
   "outputs": [
    {
     "data": {
      "text/plain": [
       "#33 (generic function with 1 method)"
      ]
     },
     "execution_count": 111,
     "metadata": {},
     "output_type": "execute_result"
    }
   ],
   "source": [
    "#En celdas anteriores utilizamos la sintaxis \"convert(Matrix{Float64}, C) |> pivote |> solucion\", a ésta sintaxis la podemos \n",
    "#renombrar con una función genérica de la siguiente manera: f = x -> convert(Matrix{Float64}, x)\n",
    "f = x -> convert(Matrix{Float64}, x)"
   ]
  },
  {
   "cell_type": "code",
   "execution_count": 117,
   "id": "ede03e40",
   "metadata": {},
   "outputs": [
    {
     "data": {
      "text/plain": [
       "5×10 Matrix{Float64}:\n",
       "  1.0   0.0   0.0   0.0  0.0  -1.24242   …   0.0949495    0.377778\n",
       "  0.0   1.0   0.0   0.0  0.0   1.63636      -0.00757576  -0.583333\n",
       "  0.0   0.0   1.0   0.0  0.0   0.393939     -0.0792929   -0.0388889\n",
       "  0.0   0.0   0.0   1.0  0.0  -0.212121      0.0414141    0.122222\n",
       " -0.0  -0.0  -0.0  -0.0  1.0  -1.59091       0.0189394    0.458333"
      ]
     },
     "execution_count": 117,
     "metadata": {},
     "output_type": "execute_result"
    }
   ],
   "source": [
    "#Por otro lado, otra sintaxis análoga para encontar el valor del vector de la matriz aumentada, es empleando:\n",
    "# (solucion \\circ pivote \\circ f \\circ hcat)(A, b)\n",
    "\n",
    "# De la sintaxis anterior para calcular la matriz inversa usando la funcion \"solucion\", basta con cambiar el parámetro b, que\n",
    "# corresponde al vector que dimos por el parámetro B el cual corresponde a la matriz identidad.\n",
    "\n",
    "using LinearAlgebra\n",
    "(solucion ∘ pivote ∘ f ∘ hcat)(A, B)"
   ]
  },
  {
   "cell_type": "markdown",
   "id": "70597fba",
   "metadata": {},
   "source": [
    "## El método de propagación\n",
    "\n",
    "Existe otro método para solucionar sistemas lineales de ecuaciones algebráicas **totalmente análogo al que hemos visto**. En efecto, esto se sigue de observar que, si en vez de tener un sistema cuya matriz asociada sea triangular superior, fuese triangular _inferior_\n",
    "\n",
    "$$ \\begin{pmatrix} a'_{11} &0 &\\dots &0 \\\\ a'_{21} &a'_{22} &\\dots &0 \\\\ \\vdots &\\vdots &\\ddots &\\vdots \\\\ a'_{n1} &a'_{n2} &\\dots &a'_{nn} \\end{pmatrix} \\begin{pmatrix} x_1 \\\\ x_2 \\\\ \\vdots \\\\ x_n \\end{pmatrix} = \\begin{pmatrix} b'_1 \\\\ b'_2 \\\\ \\vdots \\\\ b'_n \\end{pmatrix} $$\n",
    "\n",
    "entonces podríamos solucionarlo de principio a fin, obteniendo primero a\n",
    "\n",
    "$$x_1 = \\frac{b'_{1}}{a'_{11}}$$\n",
    "\n",
    "y luego la fórmula general\n",
    "\n",
    "$$ x_i = \\frac{1}{a'_{ii}} \\bigg( b'_i - \\sum_{j=1}^{i-1} a'_{ij}x_j \\bigg) $$\n",
    "\n",
    "para $1<i\\leq n$. A este método se le conoce como _propagación_, pues solucionamos la primera entrada del vector incógnita y después propagamos esa solución iterativamente hacia adelante. Asimismo, podemos reducir una matriz aumentada de la forma\n",
    "\n",
    "$$ \\begin{pmatrix} a_{11} &a_{12} &\\dots &a_{1n} &\\mid &b_1 \\\\ a_{21} &a_{22} &\\dots &a_{2n} &\\mid &b_2 \\\\ \\vdots &\\vdots &\\ddots &\\vdots &\\mid &\\vdots \\\\ a_{n1} &a_{n2} &\\dots &a_{nn} &\\mid &b_n \\end{pmatrix} $$\n",
    "\n",
    "a una de la forma\n",
    "\n",
    "$$ \\begin{pmatrix} a'_{11} &0 &\\dots &0 &\\mid &b'_1 \\\\ a'_{21} &a'_{22} &\\dots &0 &\\mid &b'_2 \\\\ \\vdots &\\vdots &\\ddots &\\vdots &\\mid &\\vdots \\\\ a'_{n1} &a'_{n2} &\\dots &a'_{nn} &\\mid &b'_n \\end{pmatrix} $$\n",
    "\n",
    "haciendo un proceso inverso al que vimos anteriormente -siempre y cuando, nuevamente, la matriz cuadrada sea no singular.\n",
    "\n",
    "En inglés, este segundo método (propagación) se conoce como _forward substitution_, mientras que el primero que vimos (retropropagación) se conoce como _backward substitution_."
   ]
  },
  {
   "cell_type": "markdown",
   "id": "9864317a",
   "metadata": {},
   "source": [
    "## Recursos complementarios\n",
    "\n",
    "* Capítulo 6 \"Direct Methods for Solving Linear Systems\" de Burden, Faires y Burden, _Numerical Analysis_ (2016).\n",
    "* Secciones 3.2 \"Solution of Triangular Systems\" y 3.3 \"The Gaussian Elimination Method (GEM) and LU Factorization\" de Quarteroni, Sacco y Saleri, _Numerical Mathematics_ (2000).\n",
    "* Capítulo 2 \"Systems of Linear Equations\" de Poole, _Linear Algebra: A Modern Introduction_ (2015)."
   ]
  }
 ],
 "metadata": {
  "kernelspec": {
   "display_name": "Julia 1.8.5",
   "language": "julia",
   "name": "julia-1.8"
  },
  "language_info": {
   "file_extension": ".jl",
   "mimetype": "application/julia",
   "name": "julia",
   "version": "1.8.5"
  }
 },
 "nbformat": 4,
 "nbformat_minor": 5
}
